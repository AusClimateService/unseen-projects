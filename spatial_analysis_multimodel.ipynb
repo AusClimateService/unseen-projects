{
 "cells": [
  {
   "cell_type": "markdown",
   "id": "833074a6",
   "metadata": {},
   "source": [
    "# Multi-model UNSEEN spatial analysis figures\n",
    "\n",
    "This notebook can be run using papermill, for example:\n",
    "\n",
    "```bash\n",
    "papermill -p metric txx -p obs_config_file AGCD-CSIRO_r05_tasmax_config.mk -p obs AGCD spatial_analysis_multimodel.ipynb project-txx/spatial_analysis_multimodel_txx.ipynb\n",
    "\n",
    "papermill -p metric rx1day -p obs_config_file AGCD-CSIRO_r05_precip_config.mk -p obs AGCD -p bc multiplicative spatial_analysis_multimodel.ipynb project-rx1day/spatial_analysis_multimodel_rx1day.ipynb\n",
    "```"
   ]
  },
  {
   "cell_type": "code",
   "execution_count": null,
   "id": "d58f7397",
   "metadata": {},
   "outputs": [],
   "source": [
    "import matplotlib.pyplot as plt  # noqa\n",
    "import numpy as np\n",
    "from pathlib import Path\n",
    "import xarray as xr\n",
    "\n",
    "from spatial_plots_multimodel import *"
   ]
  },
  {
   "cell_type": "code",
   "execution_count": null,
   "id": "a0483aec",
   "metadata": {
    "tags": [
     "parameters"
    ]
   },
   "outputs": [],
   "source": [
    "# Default parameters\n",
    "bc = None"
   ]
  },
  {
   "cell_type": "code",
   "execution_count": null,
   "id": "8e90465d",
   "metadata": {},
   "outputs": [],
   "source": [
    "# Required parameters\n",
    "kwargs = locals()\n",
    "assert \"metric\" in kwargs, \"Must provide a metric name (e.g., txx)\"\n",
    "assert (\n",
    "    \"obs_config_file\" in kwargs\n",
    "), \"Must provide a obs_config_file name (e.g., AGCD-tasmax_config.mk)\"\n",
    "assert \"obs\" in kwargs, \"Must provide a observation data set name (e.g., AGCD)\""
   ]
  },
  {
   "cell_type": "code",
   "execution_count": null,
   "id": "fea44df8",
   "metadata": {},
   "outputs": [],
   "source": [
    "if metric == \"txx\":\n",
    "    models = np.array(\n",
    "        [\n",
    "            \"CAFE\",\n",
    "            \"BCC-CSM2-MR\",\n",
    "            \"CanESM5\",\n",
    "            \"CMCC-CM2-SR5\",\n",
    "            \"EC-Earth3\",\n",
    "            \"IPSL-CM6A-LR\",\n",
    "            \"MIROC6\",\n",
    "            \"MPI-ESM1-2-HR\",\n",
    "            \"MRI-ESM2-0\",\n",
    "            \"NorCPM1\",\n",
    "        ]\n",
    "    )\n",
    "elif metric == \"rx1day\":\n",
    "    models = np.array(\n",
    "        [\n",
    "            \"BCC-CSM2-MR\",\n",
    "            \"CanESM5\",\n",
    "            \"CMCC-CM2-SR5\",\n",
    "            \"EC-Earth3\",\n",
    "            \"HadGEM3-GC31-MM\",\n",
    "            \"IPSL-CM6A-LR\",\n",
    "            \"MIROC6\",\n",
    "            \"MPI-ESM1-2-HR\",\n",
    "            \"MRI-ESM2-0\",\n",
    "            \"NorCPM1\",\n",
    "        ]\n",
    "    )"
   ]
  },
  {
   "cell_type": "code",
   "execution_count": null,
   "id": "edefe2d2",
   "metadata": {},
   "outputs": [],
   "source": [
    "# Get variables from makefile (nested dictionary)\n",
    "var_dict = get_makefile_vars(models, metric, obs, obs_config_file=obs_config_file)"
   ]
  },
  {
   "cell_type": "code",
   "execution_count": null,
   "id": "36b5199b",
   "metadata": {},
   "outputs": [],
   "source": [
    "# Filestem for figures and datatree\n",
    "filestem = f\"{metric}_{var_dict[obs]['timescale']}_{var_dict[obs]['region']}\"\n",
    "if bc is not None:\n",
    "    filestem += f\"_bias-corrected-{var_dict[obs]['obs_dataset']}-{bc}\"\n",
    "dt_file = f\"{var_dict[obs]['project_dir']}/data/datatree_{filestem}.nc\""
   ]
  },
  {
   "cell_type": "code",
   "execution_count": null,
   "id": "f96a5a9a",
   "metadata": {},
   "outputs": [],
   "source": [
    "# Extract some variables from the dictionaries\n",
    "plot_dict = eval(var_dict[obs][\"plot_dict\"])\n",
    "var = var_dict[obs][\"var\"]\n",
    "time_agg = var_dict[obs][\"time_agg\"]\n",
    "covariate_base = int(var_dict[obs][\"covariate_base\"])\n",
    "covariates = eval(var_dict[obs][\"gev_trend_period\"])\n",
    "plot_dict[\"fig_dir\"] = Path(var_dict[obs][\"fig_dir\"]) / \"multimodel\"\n",
    "plot_dict[\"filestem\"] = filestem\n",
    "plot_dict[\"filestem_no_bc\"] = filestem.split(\"_bias\")[0]\n",
    "plot_dict[\"models\"] = models\n",
    "\n",
    "plot_dict_avg = plot_dict.copy()\n",
    "stability_kwargs = {}\n",
    "stability_anom_kwargs = {}\n",
    "\n",
    "if metric == \"txx\":\n",
    "    std_dev_ticks = np.arange(0, 4.5, 0.5)  # Median absolute deviation\n",
    "    if bc is None:\n",
    "        plot_dict_avg[\"ticks\"] = np.arange(22, 52 + 4, 4)\n",
    "        plot_dict[\"ticks\"] = np.arange(24, 66 + 4, 4)\n",
    "    else:\n",
    "        plot_dict_avg[\"ticks\"] = np.arange(22, 52 + 4, 4)\n",
    "        plot_dict[\"ticks\"] = np.arange(32, 56 + 2, 2)\n",
    "\n",
    "    stability_anom_kwargs = dict(\n",
    "        ticks=np.arange(-3.3, 3.5, 0.2),\n",
    "        ticklabels=np.around(np.arange(-3.2, 3.4, 0.2), 1),\n",
    "    )\n",
    "\n",
    "elif metric == \"rx1day\":\n",
    "    std_dev_ticks = np.arange(0, 50 + 10, 10)  # Median absolute deviation\n",
    "    if bc is None:\n",
    "        plot_dict_avg[\"ticks\"] = np.arange(0, 200 + 20, 20)\n",
    "        plot_dict[\"ticks\"] = np.arange(0, 400 + 50, 50)\n",
    "    else:\n",
    "        plot_dict_avg[\"ticks\"] = np.arange(0, 120 + 20, 20)\n",
    "        plot_dict_avg[\"ticks_anom\"] = np.arange(-11, 11 + 2, 2)\n",
    "        plot_dict[\"ticks\"] = np.arange(0, 450 + 50, 50)\n",
    "        plot_dict[\"ticks_anom\"] = np.arange(-170, 170 + 40, 40)"
   ]
  },
  {
   "cell_type": "code",
   "execution_count": null,
   "id": "68e71341",
   "metadata": {},
   "outputs": [],
   "source": [
    "# Create/open datatree of all model and observation datasets\n",
    "if Path(dt_file).exists():\n",
    "    dt = xr.open_datatree(dt_file)\n",
    "else:\n",
    "    # Create a data tree using dict of {model: filenames[\"metric_fcst\"]}\n",
    "    data_dict = {}\n",
    "    data_dict[f\"obs/{obs}\"] = open_obs_dataset(var_dict, obs)\n",
    "    for i, model in enumerate(models):\n",
    "        print(f\"{i}. {model}\")\n",
    "        data_dict[f\"model/{model}\"] = open_model_dataset(var_dict[model], bc)\n",
    "    dt = xr.DataTree.from_dict(data_dict)\n",
    "    dt.to_netcdf(dt_file, compute=True)\n",
    "\n",
    "dt"
   ]
  },
  {
   "cell_type": "code",
   "execution_count": null,
   "id": "4c5eb9fb",
   "metadata": {},
   "outputs": [],
   "source": [
    "# Create nested dict of class instance containing variables and datasets\n",
    "info = {}\n",
    "info[obs] = InfoSet(\n",
    "    name=obs,\n",
    "    file=var_dict[obs][\"metric_obs\"],\n",
    "    obs_name=obs,\n",
    "    ds=dt[f\"obs/{obs}\"].ds,\n",
    "    obs_ds=dt[f\"obs/{obs}\"].ds,\n",
    "    bias_correction=bc,\n",
    "    pval_mask=None,\n",
    "    **plot_dict,\n",
    ")\n",
    "\n",
    "for m in models:\n",
    "    info[m] = InfoSet(\n",
    "        name=m,\n",
    "        obs_name=obs,\n",
    "        file=var_dict[m][\"metric_fcst\"],\n",
    "        ds=dt[f\"model/{m}\"].ds,\n",
    "        obs_ds=subset_obs_dataset(dt[f\"obs/{obs}\"].ds, dt[f\"model/{m}\"].ds),\n",
    "        pval_mask=dt[f\"model/{m}\"].ds.pval_mask,\n",
    "        bias_correction=bc,\n",
    "        **plot_dict,\n",
    "    )\n",
    "    info[m].regridder = shared_grid_regridder(info[m].ds, method=\"conservative\")\n",
    "\n",
    "for m in info.keys():\n",
    "    info[m].gev_mask = get_gev_mask(info, m, var_dict, test=var_dict[m][\"gev_test\"])"
   ]
  },
  {
   "cell_type": "markdown",
   "id": "34558912",
   "metadata": {},
   "source": [
    "## Plots\n"
   ]
  },
  {
   "cell_type": "markdown",
   "id": "af3cf68b",
   "metadata": {},
   "source": [
    "### Independence and stability"
   ]
  },
  {
   "cell_type": "code",
   "execution_count": null,
   "id": "4185433b",
   "metadata": {},
   "outputs": [],
   "source": [
    "if bc is None:\n",
    "    # Independent lead time\n",
    "    plot_min_independent_lead(info, plot_dict)"
   ]
  },
  {
   "cell_type": "code",
   "execution_count": null,
   "id": "a70d2cab",
   "metadata": {},
   "outputs": [],
   "source": [
    "if bc is None:\n",
    "    # Stability (don't plot for diff bc)\n",
    "    for method in [\"aep\", \"median\"]:\n",
    "        plot_stability(info, var_dict, plot_dict, method, anomaly=False)\n",
    "        plot_stability(\n",
    "            info,\n",
    "            var_dict,\n",
    "            plot_dict,\n",
    "            method=method,\n",
    "            anomaly=True,\n",
    "            **stability_anom_kwargs,\n",
    "        )"
   ]
  },
  {
   "cell_type": "markdown",
   "id": "e7b11d62",
   "metadata": {},
   "source": [
    "### Metric maximum and median"
   ]
  },
  {
   "cell_type": "code",
   "execution_count": null,
   "id": "02c7a698",
   "metadata": {},
   "outputs": [],
   "source": [
    "plot_time_agg(info, var, \"maximum\", plot_dict)"
   ]
  },
  {
   "cell_type": "code",
   "execution_count": null,
   "id": "65e2c9e5",
   "metadata": {},
   "outputs": [],
   "source": [
    "plot_time_agg(info, var, \"median\", plot_dict_avg)"
   ]
  },
  {
   "cell_type": "markdown",
   "id": "75c617b0",
   "metadata": {},
   "source": [
    "### Metric maximum (subsampled)"
   ]
  },
  {
   "cell_type": "code",
   "execution_count": null,
   "id": "25e88077",
   "metadata": {},
   "outputs": [],
   "source": [
    "plot_time_agg_subsampled(info, obs, \"maximum\", plot_dict, 10000)"
   ]
  },
  {
   "cell_type": "markdown",
   "id": "8bd99954",
   "metadata": {},
   "source": [
    "### Model minus observation anomalies"
   ]
  },
  {
   "cell_type": "code",
   "execution_count": null,
   "id": "487243c8",
   "metadata": {},
   "outputs": [],
   "source": [
    "for anom in [\"anom\", \"anom_pct\", \"anom_std\", \"anom_2000yr\"]:\n",
    "    plot_obs_anom(info, obs, var, \"maximum\", anom, covariate_base, plot_dict)"
   ]
  },
  {
   "cell_type": "code",
   "execution_count": null,
   "id": "4b49eeee",
   "metadata": {},
   "outputs": [],
   "source": [
    "plot_obs_anom(\n",
    "    info,\n",
    "    obs,\n",
    "    var,\n",
    "    \"median\",\n",
    "    \"anom\",\n",
    "    covariate_base,\n",
    "    plot_dict_avg,\n",
    ")"
   ]
  },
  {
   "cell_type": "markdown",
   "id": "5497e979",
   "metadata": {},
   "source": [
    "### Seasonality/event year"
   ]
  },
  {
   "cell_type": "code",
   "execution_count": null,
   "id": "913fc6b5",
   "metadata": {},
   "outputs": [],
   "source": [
    "cmap = month_cmap_alt if metric == \"txx\" else month_cmap"
   ]
  },
  {
   "cell_type": "code",
   "execution_count": null,
   "id": "78ad5acd",
   "metadata": {},
   "outputs": [],
   "source": [
    "plot_event_month_mode(\n",
    "    info, plot_dict, cmap=cmap, add_labels=True if metric == \"txx\" else False\n",
    ")"
   ]
  },
  {
   "cell_type": "code",
   "execution_count": null,
   "id": "fa45d6e7",
   "metadata": {},
   "outputs": [],
   "source": [
    "plot_record_event_month(info, plot_dict, time_agg=time_agg, cmap=cmap)"
   ]
  },
  {
   "cell_type": "code",
   "execution_count": null,
   "id": "aebd465d",
   "metadata": {},
   "outputs": [],
   "source": [
    "plot_event_year(info, var, time_agg, plot_dict, ticks=np.arange(1960, 2025, 5))"
   ]
  },
  {
   "cell_type": "code",
   "execution_count": null,
   "id": "bf9845fb",
   "metadata": {},
   "outputs": [],
   "source": [
    "plot_metric_variability(info, var, plot_dict, ticks=std_dev_ticks)"
   ]
  },
  {
   "cell_type": "markdown",
   "id": "0f0b5797",
   "metadata": {},
   "source": [
    "### GEV parameters"
   ]
  },
  {
   "cell_type": "code",
   "execution_count": null,
   "id": "668abe5a",
   "metadata": {},
   "outputs": [],
   "source": [
    "# GEV/empirical\n",
    "for param in [\"c\", \"location_0\", \"location_1\", \"scale_0\", \"scale_1\"]:\n",
    "    plot_nonstationary_gev_param(info, param, plot_dict)"
   ]
  },
  {
   "cell_type": "markdown",
   "id": "e655cd68",
   "metadata": {},
   "source": [
    "### Annual exceedance probability (AEP)"
   ]
  },
  {
   "cell_type": "code",
   "execution_count": null,
   "id": "5f5b3ddb",
   "metadata": {},
   "outputs": [],
   "source": [
    "aep = 1"
   ]
  },
  {
   "cell_type": "code",
   "execution_count": null,
   "id": "26f759cf",
   "metadata": {},
   "outputs": [],
   "source": [
    "plot_aep_empirical(info, plot_dict, var, aep=aep)"
   ]
  },
  {
   "cell_type": "code",
   "execution_count": null,
   "id": "b2712fbc",
   "metadata": {},
   "outputs": [],
   "source": [
    "plot_aep(info, plot_dict, covariates[-1], aep=aep)"
   ]
  },
  {
   "cell_type": "code",
   "execution_count": null,
   "id": "3358b7aa",
   "metadata": {},
   "outputs": [],
   "source": [
    "plot_aep_trend(\n",
    "    info,\n",
    "    plot_dict,\n",
    "    covariates,\n",
    "    aep=aep,\n",
    ")"
   ]
  },
  {
   "cell_type": "markdown",
   "id": "5db89fc1",
   "metadata": {},
   "source": [
    "# Cumulative annual exceedance probability"
   ]
  },
  {
   "cell_type": "code",
   "execution_count": null,
   "id": "efb4af85",
   "metadata": {},
   "outputs": [],
   "source": [
    "plot_abstract(\n",
    "    info, plot_dict, time_agg=time_agg, start_year=2025, n_years=10\n",
    ")  # For graphic abstract (multi-model median only)"
   ]
  },
  {
   "cell_type": "code",
   "execution_count": null,
   "id": "beec5cc5",
   "metadata": {},
   "outputs": [],
   "source": [
    "plot_new_record_probability_empirical(\n",
    "    info, plot_dict, var, time_agg=time_agg, n_years=10\n",
    ")"
   ]
  },
  {
   "cell_type": "code",
   "execution_count": null,
   "id": "b94b7066",
   "metadata": {},
   "outputs": [],
   "source": [
    "plot_new_record_probability(\n",
    "    info, plot_dict, covariate_base, time_agg=time_agg, n_years=10\n",
    ")"
   ]
  },
  {
   "cell_type": "code",
   "execution_count": null,
   "id": "a3b693f9",
   "metadata": {},
   "outputs": [],
   "source": [
    "plot_obs_ari(\n",
    "    info,\n",
    "    plot_dict,\n",
    "    var,\n",
    "    obs,\n",
    "    covariate_base,\n",
    "    time_agg=time_agg,\n",
    ")"
   ]
  }
 ],
 "metadata": {
  "kernelspec": {
   "display_name": "unseen",
   "language": "python",
   "name": "python3"
  },
  "language_info": {
   "codemirror_mode": {
    "name": "ipython",
    "version": 3
   },
   "file_extension": ".py",
   "mimetype": "text/x-python",
   "name": "python",
   "nbconvert_exporter": "python",
   "pygments_lexer": "ipython3",
   "version": "3.11.9"
  }
 },
 "nbformat": 4,
 "nbformat_minor": 5
}
