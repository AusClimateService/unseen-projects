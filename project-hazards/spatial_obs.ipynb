{
 "cells": [
  {
   "cell_type": "markdown",
   "id": "4d047299",
   "metadata": {
    "papermill": {
     "duration": 0.027065,
     "end_time": "2023-03-06T02:49:49.549053",
     "exception": false,
     "start_time": "2023-03-06T02:49:49.521988",
     "status": "completed"
    },
    "tags": []
   },
   "source": [
    "# Observational spatial analysis\n"
   ]
  },
  {
   "cell_type": "code",
   "execution_count": null,
   "id": "95569a41",
   "metadata": {
    "papermill": {
     "duration": 9.54623,
     "end_time": "2023-03-06T02:49:59.109857",
     "exception": false,
     "start_time": "2023-03-06T02:49:49.563627",
     "status": "completed"
    },
    "tags": []
   },
   "outputs": [],
   "source": [
    "%load_ext autoreload\n",
    "%autoreload 2\n",
    "\n",
    "import cartopy\n",
    "import cartopy.crs as ccrs\n",
    "from cartopy.mpl.gridliner import LatitudeFormatter, LongitudeFormatter\n",
    "import geopandas as gp\n",
    "import matplotlib.pyplot as plt\n",
    "from matplotlib.ticker import AutoMinorLocator\n",
    "import numpy as np\n",
    "import os\n",
    "import xarray as xr\n",
    "\n",
    "from unseen import fileio, independence, similarity, time_utils\n",
    "\n",
    "import cfg, spatial_plots"
   ]
  },
  {
   "cell_type": "code",
   "execution_count": null,
   "id": "56e9e0ab",
   "metadata": {
    "papermill": {
     "duration": 0.024169,
     "end_time": "2023-03-06T02:49:59.159559",
     "exception": false,
     "start_time": "2023-03-06T02:49:59.135390",
     "status": "completed"
    },
    "tags": [
     "parameters"
    ]
   },
   "outputs": [],
   "source": [
    "# Optional parameters\n",
    "# (This cell is tagged \"parameters\")\n",
    "dpi = 300\n",
    "shapefile = None\n",
    "shape_overlap = 0.1\n",
    "alpha = 0.05\n",
    "time_dim = \"time\"\n",
    "lat_dim = \"lat\"\n",
    "lon_dim = \"lon\"\n",
    "similarity_test = \"ks\"\n",
    "gev_relative_fit_test = \"bic\"\n",
    "time_agg = \"maximum\"\n",
    "covariate_year = 2024\n",
    "start_year = 1961\n",
    "base_period = [1961, 2020]  # for covariate"
   ]
  },
  {
   "cell_type": "code",
   "execution_count": null,
   "id": "b9787631",
   "metadata": {
    "papermill": {
     "duration": 0.042552,
     "end_time": "2023-03-06T02:49:59.256849",
     "exception": false,
     "start_time": "2023-03-06T02:49:59.214297",
     "status": "completed"
    },
    "tags": []
   },
   "outputs": [],
   "source": [
    "# Required parameters\n",
    "kwargs = locals()\n",
    "assert \"metric\" in kwargs, \"Must provide a metric name\"\n",
    "assert \"var\" in kwargs, \"Must provide a variable name\"\n",
    "assert \"model_name\" in kwargs, \"Must provide a model name\"\n",
    "\n",
    "assert os.path.isfile(\n",
    "    obs_file\n",
    "), f\"Must provide an observations data file (papermill option -p obs_file [filepath])\"\n",
    "assert os.path.isfile(\n",
    "    file_list\n",
    "), \"Must provide the input model files list (papermill option -p file_list [filepath])\"\n",
    "assert os.path.isfile(\n",
    "    model_file\n",
    "), \"Must provide an model data file (papermill option -p model_file [filepath])\"\n",
    "assert os.path.isfile(\n",
    "    independence_file\n",
    "), \"Must provide an independence min lead file (papermill option -p independence_file [filepath])\"\n",
    "if plot_additive_bc:\n",
    "    assert os.path.isfile(\n",
    "        model_add_bc_file\n",
    "    ), \"Must provide a model additive bias corrected data file (papermill option -p model_add_bc_file [filepath])\"\n",
    "if plot_multiplicative_bc:\n",
    "    assert os.path.isfile(\n",
    "        model_mulc_bc_file\n",
    "    ), \"Must provide a model multiplicative bias corrected data file (papermill option -p model_mulc_bc_file [filepath])\"\n",
    "assert os.path.isfile(\n",
    "    similarity_raw_file\n",
    "), \"Must provide an raw data similarity test file (papermill option -p similarity_raw_file [filepath])\"\n",
    "assert os.path.isfile(\n",
    "    similarity_add_bc_file\n",
    "), \"Must provide an additive bias corrected similarity test file (papermill option -p similarity_add_bias_file [filepath])\"\n",
    "assert os.path.isfile(\n",
    "    similarity_mulc_bc_file\n",
    "), \"Must provide an multiplicative bias corrected similarity test file (papermill option -p similarity_mulc_bias_file [filepath])\""
   ]
  },
  {
   "cell_type": "markdown",
   "id": "1e039e61",
   "metadata": {
    "papermill": {
     "duration": 0.013056,
     "end_time": "2023-03-06T02:50:18.132496",
     "exception": false,
     "start_time": "2023-03-06T02:50:18.119440",
     "status": "completed"
    },
    "tags": []
   },
   "source": [
    "## Observational data"
   ]
  },
  {
   "cell_type": "code",
   "execution_count": null,
   "id": "09d1baf5",
   "metadata": {},
   "outputs": [],
   "source": [
    "obs_ds = fileio.open_dataset(obs_file)\n",
    "event_times = np.vectorize(time_utils.str_to_cftime)(\n",
    "    model_ds.event_time, model_ds.time.dt.calendar\n",
    ")\n",
    "model_ds[\"event_time\"] = (model_ds.event_time.dims, event_times)\n",
    "obs_ds"
   ]
  },
  {
   "cell_type": "code",
   "execution_count": null,
   "id": "58d908d3",
   "metadata": {},
   "outputs": [],
   "source": [
    "# Select observations within the model initialisation times # todo: check this\n",
    "model_start_year = model_ds.time.isel({lead_dim: 0, init_dim: 0}).dt.year.load().item()\n",
    "obs_ds = obs_ds.where(obs_ds.time.dt.year >= model_start_year, drop=True)\n",
    "obs_ds = obs_ds.dropna(\"time\", how=\"all\")\n",
    "obs_ds"
   ]
  },
  {
   "cell_type": "code",
   "execution_count": null,
   "id": "366a1173",
   "metadata": {},
   "outputs": [],
   "source": [
    "obs_max_event = obs_ds[var].max().load().item()\n",
    "obs_max_event_loc = (\n",
    "    obs_ds[var].where(obs_ds[var].load() == obs_max_event, drop=True).squeeze()\n",
    ")\n",
    "obs_max_event_loc.load()"
   ]
  },
  {
   "cell_type": "markdown",
   "id": "aa3d6416",
   "metadata": {},
   "source": [
    "## Spatial Maps"
   ]
  },
  {
   "cell_type": "code",
   "execution_count": null,
   "id": "bf650636",
   "metadata": {},
   "outputs": [],
   "source": [
    "# Store plot related variables using the InfoSet class\n",
    "\n",
    "info = cfg.InfoSet(\n",
    "    name=model_name,\n",
    "    metric=metric,\n",
    "    fig_dir=fig_dir,\n",
    "    file=model_file,\n",
    "    ds=model_ds,\n",
    "    ds_obs=obs_ds,\n",
    "    bias_correction=None,\n",
    ")"
   ]
  },
  {
   "cell_type": "code",
   "execution_count": null,
   "id": "c84978aa",
   "metadata": {},
   "outputs": [],
   "source": [
    "# Load GEV parameters\n",
    "covariate = obs_ds[time_dim].dt.year\n",
    "# base_period = [model_ds.time.dt.year.min().load().item(), obs_ds.time.dt.year.max().load().item()]\n",
    "times = xr.DataArray(base_period, dims=info.time_dim)"
   ]
  },
  {
   "cell_type": "code",
   "execution_count": null,
   "id": "604d6b5d",
   "metadata": {},
   "outputs": [],
   "source": [
    "dparams_s = xr.open_dataset(gev_params_stationary_file)[var]\n",
    "dparams_ns = xr.open_dataset(gev_params_nonstationary_file)[var]\n",
    "# Ensure model ds and GEV parameters have the same lat/lon grid (hard to fit a\n",
    "# GEV at ocean points - usually apply a mask that drops some lat/lons)\n",
    "obs_ds = model_add_bc_ds_stacked.sel(lat=dparams_ns.lat, lon=dparams_ns.lon)\n",
    "print(dparams_s)\n",
    "print(dparams_ns)"
   ]
  },
  {
   "cell_type": "markdown",
   "id": "165a2e53",
   "metadata": {},
   "source": [
    "# Year when max/min event occured"
   ]
  },
  {
   "cell_type": "code",
   "execution_count": null,
   "id": "16fd082e",
   "metadata": {},
   "outputs": [],
   "source": [
    "spatial_plots.plot_map_event_year(info, obs_ds, time_agg)"
   ]
  },
  {
   "cell_type": "markdown",
   "id": "ac9770e2",
   "metadata": {},
   "source": [
    "## Most common month for max/min event"
   ]
  },
  {
   "cell_type": "code",
   "execution_count": null,
   "id": "454e3d2e",
   "metadata": {},
   "outputs": [],
   "source": [
    "spatial_plots.plot_map_event_month_mode(info, obs_ds)"
   ]
  },
  {
   "cell_type": "markdown",
   "id": "98d99237",
   "metadata": {},
   "source": [
    "\n",
    "## Map of metric median"
   ]
  },
  {
   "cell_type": "code",
   "execution_count": null,
   "id": "8c4ec4de",
   "metadata": {},
   "outputs": [],
   "source": [
    "spatial_plots.plot_map_time_agg(info, obs_ds, \"median\")"
   ]
  },
  {
   "cell_type": "markdown",
   "id": "17576f05",
   "metadata": {},
   "source": [
    "# Map of metric maximum or minimum"
   ]
  },
  {
   "cell_type": "code",
   "execution_count": null,
   "id": "0c206d2a",
   "metadata": {},
   "outputs": [],
   "source": [
    "spatial_plots.plot_map_time_agg(info, obs_ds, time_agg)"
   ]
  },
  {
   "cell_type": "markdown",
   "id": "94be63cd",
   "metadata": {},
   "source": [
    "## Annual reccurence of observed max/min event\n",
    "\n",
    "### Empirical return period"
   ]
  },
  {
   "cell_type": "code",
   "execution_count": null,
   "id": "db710915",
   "metadata": {},
   "outputs": [],
   "source": [
    "spatial_plots.plot_map_obs_ari_empirical(\n",
    "    info,\n",
    "    obs_ds,\n",
    "    None,\n",
    "    covariate=covariate_year,\n",
    "    time_agg=time_agg,\n",
    ")"
   ]
  },
  {
   "cell_type": "markdown",
   "id": "66277f19",
   "metadata": {},
   "source": [
    "### GEV-based return period"
   ]
  },
  {
   "cell_type": "code",
   "execution_count": null,
   "id": "8766d372",
   "metadata": {},
   "outputs": [],
   "source": [
    "spatial_plots.plot_map_obs_ari(\n",
    "    info,\n",
    "    obs_ds,\n",
    "    None,\n",
    "    dparams_ns,\n",
    "    covariate=covariate_year,\n",
    "    time_agg=time_agg,\n",
    ")"
   ]
  },
  {
   "cell_type": "markdown",
   "id": "17ea70af",
   "metadata": {},
   "source": [
    "## GEV parameter trends"
   ]
  },
  {
   "cell_type": "code",
   "execution_count": null,
   "id": "352a067b",
   "metadata": {},
   "outputs": [],
   "source": [
    "for param in [\"scale\", \"location\"]:\n",
    "    spatial_plots.plot_map_gev_param_trend(info, obs_ds, dparams_ns, param=param)"
   ]
  },
  {
   "cell_type": "markdown",
   "id": "bbfb04db",
   "metadata": {},
   "source": [
    "## Annual exceedance probability \n",
    "### Empirical exceedance probability"
   ]
  },
  {
   "cell_type": "code",
   "execution_count": null,
   "id": "8c716c71",
   "metadata": {},
   "outputs": [],
   "source": [
    "# ARI: 10, 100, 1000 years (i.e., 10% AEP is equiv to a 1 in 10 year event)\n",
    "aep_list = [10, 1, 0.1]\n",
    "for aep in aep_list:\n",
    "    spatial_plots.plot_map_aep_empirical(\n",
    "        info,\n",
    "        obs_ds,\n",
    "        aep=aep,\n",
    "    )"
   ]
  },
  {
   "cell_type": "markdown",
   "id": "d47a0f29",
   "metadata": {},
   "source": [
    "### GEV-based exceedance probability"
   ]
  },
  {
   "cell_type": "code",
   "execution_count": null,
   "id": "2b9cbe60",
   "metadata": {},
   "outputs": [],
   "source": [
    "for aep in aep_list:\n",
    "    spatial_plots.plot_map_aep(\n",
    "        info,\n",
    "        obs_ds,\n",
    "        dparams_ns,\n",
    "        times,\n",
    "        aep=aep,\n",
    "    )"
   ]
  },
  {
   "cell_type": "markdown",
   "id": "7efefd9b",
   "metadata": {},
   "source": [
    "## Probability of breaking the observed record"
   ]
  },
  {
   "cell_type": "code",
   "execution_count": null,
   "id": "5802dbf5",
   "metadata": {},
   "outputs": [],
   "source": [
    "spatial_plots.plot_map_new_record_probability(\n",
    "    info,\n",
    "    obs_ds,\n",
    "    obs_ds,\n",
    "    dparams_ns,\n",
    "    covariate_year,\n",
    "    time_agg,\n",
    "    ari=10,\n",
    ")"
   ]
  }
 ],
 "metadata": {
  "celltoolbar": "Tags",
  "kernelspec": {
   "display_name": "unseen",
   "language": "python",
   "name": "python3"
  },
  "language_info": {
   "codemirror_mode": {
    "name": "ipython",
    "version": 3
   },
   "file_extension": ".py",
   "mimetype": "text/x-python",
   "name": "python",
   "nbconvert_exporter": "python",
   "pygments_lexer": "ipython3",
   "version": "3.11.9"
  },
  "papermill": {
   "default_parameters": {},
   "duration": 208.255213,
   "end_time": "2023-03-06T02:53:13.009470",
   "environment_variables": {},
   "exception": true,
   "input_path": "analysis.ipynb",
   "output_path": "analysis_CanESM5.ipynb",
   "parameters": {
    "agcd_file": "/g/data/xv83/dbi599/east-coast-rain/data/Rx15day_AGCD-CSIRO_r005_1900-2022_annual-aug-to-sep_east-coast-flood-region.zarr.zip",
    "file_list": "/home/599/dbi599/east-coast-rain/file_lists/CanESM5_dcppA-hindcast_pr_files.txt",
    "independence_plot": "/g/data/xv83/dbi599/east-coast-rain/figures/independence-test_Rx15day_CanESM5-dcppA-hindcast_196101-201701_annual-aug-to-sep_east-coast-flood-region.png",
    "min_lead": 1,
    "model_add_bc_file": "/g/data/xv83/dbi599/east-coast-rain/data/Rx15day_CanESM5-dcppA-hindcast_196101-201701_annual-aug-to-sep_east-coast-flood-region_bias-corrected-AGCD-CSIRO-additive.zarr.zip",
    "model_file": "/g/data/xv83/dbi599/east-coast-rain/data/Rx15day_CanESM5-dcppA-hindcast_196101-201701_annual-aug-to-sep_east-coast-flood-region.zarr.zip",
    "model_mulc_bc_file": "/g/data/xv83/dbi599/east-coast-rain/data/Rx15day_CanESM5-dcppA-hindcast_196101-201701_annual-aug-to-sep_east-coast-flood-region_bias-corrected-AGCD-CSIRO-multiplicative.zarr.zip",
    "model_name": "CanESM5",
    "nino_file": "/g/data/xv83/dbi599/east-coast-rain/data/nino34-anomaly_CanESM5-dcppA-hindcast_196101-201701_base-196101-201701.nc",
    "region_name": "east-coast-flood-region",
    "shape_file": "/g/data/xv83/dbi599/east-coast-rain/shapefiles/east-coast-flood.shp",
    "similarity_add_bc_file": "/g/data/xv83/dbi599/east-coast-rain/data/similarity-test_Rx15day_CanESM5-dcppA-hindcast_196101-201701_annual-aug-to-sep_east-coast-flood-region_bias-corrected-AGCD-CSIRO-additive.zarr.zip",
    "similarity_mulc_bc_file": "/g/data/xv83/dbi599/east-coast-rain/data/similarity-test_Rx15day_CanESM5-dcppA-hindcast_196101-201701_annual-aug-to-sep_east-coast-flood-region_bias-corrected-AGCD-CSIRO-multiplicative.zarr.zip",
    "similarity_raw_file": "/g/data/xv83/dbi599/east-coast-rain/data/similarity-test_Rx15day_CanESM5-dcppA-hindcast_196101-201701_annual-aug-to-sep_east-coast-flood-region_AGCD-CSIRO.zarr.zip"
   },
   "start_time": "2023-03-06T02:49:44.754257",
   "version": "2.3.3"
  }
 },
 "nbformat": 4,
 "nbformat_minor": 5
}
