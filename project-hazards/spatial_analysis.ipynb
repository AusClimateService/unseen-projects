{
 "cells": [
  {
   "cell_type": "markdown",
   "id": "4d047299",
   "metadata": {
    "papermill": {
     "duration": 0.027065,
     "end_time": "2023-03-06T02:49:49.549053",
     "exception": false,
     "start_time": "2023-03-06T02:49:49.521988",
     "status": "completed"
    },
    "tags": []
   },
   "source": [
    "# Spatial UNSEEN analysis\n"
   ]
  },
  {
   "cell_type": "code",
   "execution_count": null,
   "id": "95569a41",
   "metadata": {
    "papermill": {
     "duration": 9.54623,
     "end_time": "2023-03-06T02:49:59.109857",
     "exception": false,
     "start_time": "2023-03-06T02:49:49.563627",
     "status": "completed"
    },
    "tags": []
   },
   "outputs": [],
   "source": [
    "%load_ext autoreload\n",
    "%autoreload 2\n",
    "\n",
    "import cartopy\n",
    "import cartopy.crs as ccrs\n",
    "from cartopy.mpl.gridliner import LatitudeFormatter, LongitudeFormatter\n",
    "import geopandas as gp\n",
    "import matplotlib.pyplot as plt\n",
    "from matplotlib.ticker import AutoMinorLocator\n",
    "import numpy as np\n",
    "import os\n",
    "import xarray as xr\n",
    "\n",
    "from unseen import fileio, independence, similarity, time_utils\n",
    "\n",
    "import cfg, spatial_plots"
   ]
  },
  {
   "cell_type": "code",
   "execution_count": null,
   "id": "56e9e0ab",
   "metadata": {
    "papermill": {
     "duration": 0.024169,
     "end_time": "2023-03-06T02:49:59.159559",
     "exception": false,
     "start_time": "2023-03-06T02:49:59.135390",
     "status": "completed"
    },
    "tags": [
     "parameters"
    ]
   },
   "outputs": [],
   "source": [
    "# Optional parameters\n",
    "# (This cell is tagged \"parameters\")\n",
    "dpi = 300\n",
    "shapefile = None\n",
    "shape_overlap = 0.1\n",
    "alpha = 0.05\n",
    "# todo: add to Makefile\n",
    "init_dim = \"init_date\"\n",
    "lead_dim = \"lead_time\"\n",
    "ensemble_dim = \"ensemble\"\n",
    "time_dim = \"time\"\n",
    "lat_dim = \"lat\"\n",
    "lon_dim = \"lon\"\n",
    "similarity_test = \"ks\"\n",
    "gev_relative_fit_test = \"bic\"\n",
    "time_agg = \"maximum\"\n",
    "covariate_year = 2024\n",
    "base_period = [1961, 2020]  # for covariate\n",
    "# reference_time_period = [\"1960-01-01\", \"2020-12-31\"]\n",
    "\n",
    "plot_additive_bc = True\n",
    "plot_multiplicative_bc = False"
   ]
  },
  {
   "cell_type": "code",
   "execution_count": null,
   "id": "b9787631",
   "metadata": {
    "papermill": {
     "duration": 0.042552,
     "end_time": "2023-03-06T02:49:59.256849",
     "exception": false,
     "start_time": "2023-03-06T02:49:59.214297",
     "status": "completed"
    },
    "tags": []
   },
   "outputs": [],
   "source": [
    "# Required parameters\n",
    "kwargs = locals()\n",
    "assert \"metric\" in kwargs, \"Must provide a metric name\"\n",
    "assert \"var\" in kwargs, \"Must provide a variable name\"\n",
    "assert \"model_name\" in kwargs, \"Must provide a model name\"\n",
    "\n",
    "assert os.path.isfile(\n",
    "    obs_file\n",
    "), f\"Must provide an observations data file (papermill option -p obs_file [filepath])\"\n",
    "assert os.path.isfile(\n",
    "    file_list\n",
    "), \"Must provide the input model files list (papermill option -p file_list [filepath])\"\n",
    "assert os.path.isfile(\n",
    "    model_file\n",
    "), \"Must provide an model data file (papermill option -p model_file [filepath])\"\n",
    "assert os.path.isfile(\n",
    "    independence_file\n",
    "), \"Must provide an independence min lead file (papermill option -p independence_file [filepath])\"\n",
    "if plot_additive_bc:\n",
    "    assert os.path.isfile(\n",
    "        model_add_bc_file\n",
    "    ), \"Must provide a model additive bias corrected data file (papermill option -p model_add_bc_file [filepath])\"\n",
    "if plot_multiplicative_bc:\n",
    "    assert os.path.isfile(\n",
    "        model_mulc_bc_file\n",
    "    ), \"Must provide a model multiplicative bias corrected data file (papermill option -p model_mulc_bc_file [filepath])\"\n",
    "assert os.path.isfile(\n",
    "    similarity_raw_file\n",
    "), \"Must provide an raw data similarity test file (papermill option -p similarity_raw_file [filepath])\"\n",
    "assert os.path.isfile(\n",
    "    similarity_add_bc_file\n",
    "), \"Must provide an additive bias corrected similarity test file (papermill option -p similarity_add_bias_file [filepath])\"\n",
    "assert os.path.isfile(\n",
    "    similarity_mulc_bc_file\n",
    "), \"Must provide an multiplicative bias corrected similarity test file (papermill option -p similarity_mulc_bias_file [filepath])\""
   ]
  },
  {
   "cell_type": "markdown",
   "id": "d082e6af",
   "metadata": {
    "papermill": {
     "duration": 0.014695,
     "end_time": "2023-03-06T02:50:00.583605",
     "exception": false,
     "start_time": "2023-03-06T02:50:00.568910",
     "status": "completed"
    },
    "tags": []
   },
   "source": [
    "## Model ensemble\n"
   ]
  },
  {
   "cell_type": "markdown",
   "id": "f127f972",
   "metadata": {
    "papermill": {
     "duration": 0.010278,
     "end_time": "2023-03-06T02:50:00.604350",
     "exception": false,
     "start_time": "2023-03-06T02:50:00.594072",
     "status": "completed"
    },
    "tags": []
   },
   "source": [
    "### Region selection\n"
   ]
  },
  {
   "cell_type": "code",
   "execution_count": null,
   "id": "0c5bfc47",
   "metadata": {
    "papermill": {
     "duration": 0.021806,
     "end_time": "2023-03-06T02:50:00.636845",
     "exception": false,
     "start_time": "2023-03-06T02:50:00.615039",
     "status": "completed"
    },
    "tags": []
   },
   "outputs": [],
   "source": [
    "# # Plot region shapefile outline using the first file in the list\n",
    "# if shape_file and file_list:\n",
    "#     with open(file_list) as f:\n",
    "#         all_files = f.read()\n",
    "#         first_file = all_files.split(\"\\n\", 1)[0]\n",
    "\n",
    "#     shapes = gp.read_file(shape_file)\n",
    "#     isel_dict = {}\n",
    "#     if model_name == \"CAFE\":\n",
    "#         isel_dict[\"ensemble\"] = 0\n",
    "\n",
    "#     region_ds = fileio.open_dataset(\n",
    "#         first_file,\n",
    "#         metadata_file=metadata_file,\n",
    "#         variables=[var],\n",
    "#         lat_bnds=[-44, -10],\n",
    "#         lon_bnds=[113, 155],\n",
    "#         shapefile=shapefile,\n",
    "#         shape_overlap=shape_overlap,\n",
    "#         units={var: units_dict[var]},\n",
    "#         isel=isel_dict,\n",
    "#     )\n",
    "\n",
    "#     fig = plt.figure(figsize=[12, 8])\n",
    "#     ax = fig.add_subplot(111, projection=ccrs.PlateCarree())\n",
    "#     region_ds[var].mean(\"time\", keep_attrs=True).plot(\n",
    "#         ax=ax,\n",
    "#         transform=ccrs.PlateCarree(),\n",
    "#         cmap=\"viridis_r\",\n",
    "#     )\n",
    "#     ax.coastlines()\n",
    "#     ax.add_feature(cartopy.feature.STATES)\n",
    "#     ax.add_geometries(\n",
    "#         shapes.geometry, ccrs.PlateCarree(), facecolor=\"none\", edgecolor=\"orange\"\n",
    "#     )\n",
    "#     plt.show()"
   ]
  },
  {
   "cell_type": "markdown",
   "id": "146854fe",
   "metadata": {
    "papermill": {
     "duration": 0.036872,
     "end_time": "2023-03-06T02:50:12.012408",
     "exception": false,
     "start_time": "2023-03-06T02:50:11.975536",
     "status": "completed"
    },
    "tags": []
   },
   "source": [
    "### Model data\n"
   ]
  },
  {
   "cell_type": "code",
   "execution_count": null,
   "id": "1620b927",
   "metadata": {
    "papermill": {
     "duration": 0.093555,
     "end_time": "2023-03-06T02:50:12.140348",
     "exception": false,
     "start_time": "2023-03-06T02:50:12.046793",
     "status": "completed"
    },
    "tags": []
   },
   "outputs": [],
   "source": [
    "model_ds = fileio.open_dataset(model_file)\n",
    "# # !!! This doesn't work for non-standard calendars (e.g., HadGEM3-GC31-MM)\n",
    "# model_ds[\"event_time\"] = model_ds.event_time.astype(dtype=\"datetime64[ns]\")\n",
    "event_times = np.vectorize(time_utils.str_to_cftime)(\n",
    "    model_ds.event_time, model_ds.time.dt.calendar\n",
    ")\n",
    "model_ds[\"event_time\"] = (model_ds.event_time.dims, event_times)\n",
    "model_ds"
   ]
  },
  {
   "cell_type": "code",
   "execution_count": null,
   "id": "32fa28e8",
   "metadata": {},
   "outputs": [],
   "source": [
    "if plot_additive_bc:\n",
    "    model_add_bc_ds = fileio.open_dataset(model_add_bc_file)\n",
    "\n",
    "    # Convert event_time date strings to cftime\n",
    "    model_add_bc_ds[\"event_time\"] = model_add_bc_ds.event_time.astype(\n",
    "        dtype=\"datetime64[ns]\"\n",
    "    )\n",
    "    # event_times = np.vectorize(time_utils.str_to_cftime)(\n",
    "    #     model_ds.event_time, model_ds.time.dt.calendar\n",
    "    # )\n",
    "    # model_ds[\"event_time\"] = (model_ds.event_time.dims, event_times)\n",
    "    # model_ds"
   ]
  },
  {
   "cell_type": "code",
   "execution_count": null,
   "id": "197a8470",
   "metadata": {},
   "outputs": [],
   "source": [
    "if plot_multiplicative_bc:\n",
    "    model_mulc_bc_ds = fileio.open_dataset(model_mulc_bc_file)\n",
    "    model_mulc_bc_ds[\"event_time\"] = model_mulc_bc_ds.event_time.astype(\n",
    "        dtype=\"datetime64[ns]\"\n",
    "    )\n",
    "    # model_mulc_bc_ds[\"event_time\"] = (\n",
    "    #     model_mulc_bc_ds.time.dims,\n",
    "    #     np.vectorize(time_utils.str_to_cftime)(\n",
    "    #         model_mulc_bc_ds.event_time, model_mulc_bc_ds.time.dt.calendar\n",
    "    #     ),\n",
    "    # )"
   ]
  },
  {
   "cell_type": "markdown",
   "id": "b25bd815",
   "metadata": {
    "papermill": {
     "duration": 0.034589,
     "end_time": "2023-03-06T02:50:12.345116",
     "exception": false,
     "start_time": "2023-03-06T02:50:12.310527",
     "status": "completed"
    },
    "tags": []
   },
   "source": [
    "### Independence testing\n"
   ]
  },
  {
   "cell_type": "code",
   "execution_count": null,
   "id": "4bb73ae9",
   "metadata": {},
   "outputs": [],
   "source": [
    "ds_independence = xr.open_dataset(independence_file, use_cftime=True)\n",
    "ds_independence"
   ]
  },
  {
   "cell_type": "markdown",
   "id": "6febf422",
   "metadata": {},
   "source": [
    "Plot the correlation coefficients for each initialisation month and lead time"
   ]
  },
  {
   "cell_type": "code",
   "execution_count": null,
   "id": "0f2e209e",
   "metadata": {},
   "outputs": [],
   "source": [
    "cm = ds_independence.r.plot(\n",
    "    col=lead_dim,\n",
    "    row=\"month\",\n",
    "    subplot_kws=dict(projection=ccrs.PlateCarree()),\n",
    "    transform=ccrs.PlateCarree(),\n",
    "    add_colorbar=False,\n",
    "    cmap=plt.cm.seismic,\n",
    ")\n",
    "\n",
    "# Fix hidden axis ticks and labels\n",
    "for i, ax in enumerate(cm.axs.flat):\n",
    "    ax.coastlines()\n",
    "    ax.xaxis.set_major_formatter(LongitudeFormatter())\n",
    "    ax.yaxis.set_major_formatter(LatitudeFormatter())\n",
    "    ax.xaxis.set_minor_locator(AutoMinorLocator())\n",
    "    ax.yaxis.set_minor_locator(AutoMinorLocator())\n",
    "    ax.set_xlabel(None)\n",
    "    ax.set_ylabel(None)\n",
    "\n",
    "    subplotspec = ax.get_subplotspec()\n",
    "    ax.xaxis.set_visible(True)\n",
    "    if subplotspec.is_first_col():\n",
    "        ax.yaxis.set_visible(True)\n",
    "\n",
    "cm.fig.set_constrained_layout(True)\n",
    "cm.fig.get_layout_engine().set(h_pad=0.2)\n",
    "cm.add_colorbar(pad=0.02)"
   ]
  },
  {
   "cell_type": "markdown",
   "id": "c4284747",
   "metadata": {},
   "source": [
    "Plot maps of the null correlation bounds "
   ]
  },
  {
   "cell_type": "code",
   "execution_count": null,
   "id": "93367a2d",
   "metadata": {},
   "outputs": [],
   "source": [
    "cm = ds_independence.ci.plot(\n",
    "    col=\"quantile\",\n",
    "    row=\"month\",\n",
    "    subplot_kws=dict(projection=ccrs.PlateCarree()),\n",
    "    transform=ccrs.PlateCarree(),\n",
    "    add_colorbar=False,\n",
    "    cmap=plt.cm.seismic,\n",
    ")\n",
    "# Fix hidden axis ticks\n",
    "for i, ax in enumerate(cm.axs.flat):\n",
    "    ax.coastlines()\n",
    "    ax.xaxis.set_major_formatter(LongitudeFormatter())\n",
    "    ax.yaxis.set_major_formatter(LatitudeFormatter())\n",
    "    ax.xaxis.set_minor_locator(AutoMinorLocator())\n",
    "    ax.yaxis.set_minor_locator(AutoMinorLocator())\n",
    "    ax.set_xlabel(None)\n",
    "    ax.set_ylabel(None)\n",
    "    subplotspec = ax.get_subplotspec()\n",
    "    ax.xaxis.set_visible(True)\n",
    "    if subplotspec.is_first_col():\n",
    "        ax.yaxis.set_visible(True)\n",
    "\n",
    "cm.fig.set_constrained_layout(True)\n",
    "cm.fig.get_layout_engine().set(h_pad=0.2)\n",
    "cm.add_colorbar(pad=0.02)"
   ]
  },
  {
   "cell_type": "markdown",
   "id": "2f91d305",
   "metadata": {},
   "source": [
    "Plot map of first independent lead time (first lead time where the correlation coefficient is within the null correlation bounds)"
   ]
  },
  {
   "cell_type": "code",
   "execution_count": null,
   "id": "b819d698",
   "metadata": {
    "papermill": {
     "duration": 0.058675,
     "end_time": "2023-03-06T02:50:12.448582",
     "exception": false,
     "start_time": "2023-03-06T02:50:12.389907",
     "status": "completed"
    },
    "tags": []
   },
   "outputs": [],
   "source": [
    "independence.spatial_plot(\n",
    "    ds_independence,\n",
    "    dataset_name=model_name,\n",
    "    outfile=independence_plot,\n",
    ")"
   ]
  },
  {
   "cell_type": "code",
   "execution_count": null,
   "id": "536925a3",
   "metadata": {},
   "outputs": [],
   "source": [
    "# Drop dependent lead times based on the minimum independent lead time\n",
    "min_lead_ds = fileio.open_dataset(\n",
    "    independence_file,\n",
    "    variables=\"min_lead\",\n",
    "    shapefile=shapefile,\n",
    "    shape_overlap=shape_overlap,\n",
    "    spatial_agg=min_lead_spatial_agg,\n",
    ")\n",
    "min_lead = min_lead_ds[\"min_lead\"].load()\n",
    "\n",
    "print(min_lead)"
   ]
  },
  {
   "cell_type": "code",
   "execution_count": null,
   "id": "b642bce8",
   "metadata": {},
   "outputs": [],
   "source": [
    "model_ds = model_ds.groupby(f\"{init_dim}.month\").where(model_ds[lead_dim] >= min_lead)"
   ]
  },
  {
   "cell_type": "code",
   "execution_count": null,
   "id": "a6b9abd5",
   "metadata": {},
   "outputs": [],
   "source": [
    "if plot_additive_bc:\n",
    "    model_add_bc_ds = model_add_bc_ds.groupby(f\"{init_dim}.month\").where(\n",
    "        model_add_bc_ds[lead_dim] >= min_lead\n",
    "    )"
   ]
  },
  {
   "cell_type": "code",
   "execution_count": null,
   "id": "1102b779",
   "metadata": {},
   "outputs": [],
   "source": [
    "if plot_multiplicative_bc:\n",
    "    model_mulc_bc_ds = model_mulc_bc_ds.groupby(f\"{init_dim}.month\").where(\n",
    "        model_mulc_bc_ds[lead_dim] >= min_lead\n",
    "    )"
   ]
  },
  {
   "cell_type": "markdown",
   "id": "b9b89883",
   "metadata": {},
   "source": [
    "## Similarity analysis\n",
    "We can look at p-values for the KS-test and Anderson-Darling test for each lead time.\n",
    "\n",
    "p > 0.05 means the null hypothesis (that the two samples are from the same population) can't be rejected."
   ]
  },
  {
   "cell_type": "code",
   "execution_count": null,
   "id": "9d84c9ed",
   "metadata": {},
   "outputs": [],
   "source": [
    "similarity_ds = fileio.open_dataset(str(similarity_raw_file))"
   ]
  },
  {
   "cell_type": "code",
   "execution_count": null,
   "id": "804ff363",
   "metadata": {},
   "outputs": [],
   "source": [
    "similarity_add_bc_ds = fileio.open_dataset(str(similarity_add_bc_file))"
   ]
  },
  {
   "cell_type": "code",
   "execution_count": null,
   "id": "859db596",
   "metadata": {},
   "outputs": [],
   "source": [
    "similarity_mulc_bc_ds = fileio.open_dataset(str(similarity_mulc_bc_file))"
   ]
  },
  {
   "cell_type": "code",
   "execution_count": null,
   "id": "84a9b1c5",
   "metadata": {},
   "outputs": [],
   "source": [
    "similarity.similarity_spatial_plot(\n",
    "    similarity_ds,\n",
    "    dataset_name=model_name,\n",
    "    outfile=similarity_raw_plot,\n",
    ")"
   ]
  },
  {
   "cell_type": "code",
   "execution_count": null,
   "id": "177c0a4a",
   "metadata": {},
   "outputs": [],
   "source": [
    "similarity.similarity_spatial_plot(\n",
    "    similarity_add_bc_ds,\n",
    "    dataset_name=f\"{model_name} (additive bias corrected)\",\n",
    "    outfile=similarity_add_bc_plot,\n",
    ")"
   ]
  },
  {
   "cell_type": "code",
   "execution_count": null,
   "id": "e7e5235c",
   "metadata": {},
   "outputs": [],
   "source": [
    "similarity.similarity_spatial_plot(\n",
    "    similarity_mulc_bc_ds,\n",
    "    dataset_name=f\"{model_name} (multiplicative bias corrected)\",\n",
    "    outfile=similarity_mulc_bc_plot,\n",
    ")"
   ]
  },
  {
   "cell_type": "code",
   "execution_count": null,
   "id": "14d88278",
   "metadata": {},
   "outputs": [],
   "source": [
    "# Add the similarity test results to the dataset\n",
    "model_ds[\"pval_mask\"] = similarity_ds[f\"{similarity_test}_pval\"] <= alpha"
   ]
  },
  {
   "cell_type": "code",
   "execution_count": null,
   "id": "7f5e5f05",
   "metadata": {},
   "outputs": [],
   "source": [
    "if plot_additive_bc:\n",
    "    model_add_bc_ds[\"pval_mask\"] = (\n",
    "        similarity_add_bc_ds[f\"{similarity_test}_pval\"] <= alpha\n",
    "    )"
   ]
  },
  {
   "cell_type": "code",
   "execution_count": null,
   "id": "365d0d0d",
   "metadata": {},
   "outputs": [],
   "source": [
    "if plot_multiplicative_bc:\n",
    "    model_mulc_bc_ds[\"pval_mask\"] = (\n",
    "        similarity_mulc_bc_ds[f\"{similarity_test}_pval\"] <= alpha\n",
    "    )"
   ]
  },
  {
   "cell_type": "markdown",
   "id": "1e039e61",
   "metadata": {
    "papermill": {
     "duration": 0.013056,
     "end_time": "2023-03-06T02:50:18.132496",
     "exception": false,
     "start_time": "2023-03-06T02:50:18.119440",
     "status": "completed"
    },
    "tags": []
   },
   "source": [
    "## Observational data"
   ]
  },
  {
   "cell_type": "code",
   "execution_count": null,
   "id": "09d1baf5",
   "metadata": {},
   "outputs": [],
   "source": [
    "obs_ds = fileio.open_dataset(obs_file)\n",
    "obs_ds"
   ]
  },
  {
   "cell_type": "code",
   "execution_count": null,
   "id": "58d908d3",
   "metadata": {},
   "outputs": [],
   "source": [
    "# Select observations within the model initialisation times # todo: check this\n",
    "model_init_time_bnds = model_ds.time.isel(\n",
    "    {lead_dim: 0, init_dim: [0, -1]}\n",
    ").dt.year.values\n",
    "print(\"model init start/finish\", model_init_time_bnds)\n",
    "obs_ds = obs_ds.where(\n",
    "    (obs_ds.time.dt.year >= model_init_time_bnds[0])\n",
    "    & (obs_ds.time.dt.year <= model_init_time_bnds[1]),\n",
    "    drop=True,\n",
    ")\n",
    "obs_ds = obs_ds.dropna(\"time\", how=\"all\")\n",
    "obs_ds"
   ]
  },
  {
   "cell_type": "code",
   "execution_count": null,
   "id": "366a1173",
   "metadata": {},
   "outputs": [],
   "source": [
    "obs_max_event = obs_ds[var].max().load().item()\n",
    "obs_max_event_loc = (\n",
    "    obs_ds[var].where(obs_ds[var].load() == obs_max_event, drop=True).squeeze()\n",
    ")\n",
    "obs_max_event_loc.load()"
   ]
  },
  {
   "cell_type": "markdown",
   "id": "aa3d6416",
   "metadata": {},
   "source": [
    "## ACS Spatial Maps"
   ]
  },
  {
   "cell_type": "code",
   "execution_count": null,
   "id": "bf650636",
   "metadata": {},
   "outputs": [],
   "source": [
    "# Store plot related variables using the InfoSet class\n",
    "\n",
    "info = cfg.InfoSet(\n",
    "    name=model_name,\n",
    "    metric=metric,\n",
    "    obs_file=obs_file,\n",
    "    project_dir=project_dir,\n",
    "    file=model_file,\n",
    "    ds=model_ds,\n",
    "    bias_correction=None,\n",
    "    masked=False,\n",
    ")\n",
    "info.date_range_obs = cfg.date_range_str(obs_ds.time, info.freq)\n",
    "\n",
    "if plot_additive_bc:\n",
    "    info_add_bc = cfg.InfoSet(\n",
    "        name=model_name,\n",
    "        metric=metric,\n",
    "        obs_file=obs_file,\n",
    "        project_dir=project_dir,\n",
    "        file=model_add_bc_file,\n",
    "        ds=model_add_bc_ds,\n",
    "        bias_correction=\"additive\",\n",
    "        masked=False,\n",
    "    )\n",
    "    info_add_bc.date_range_obs = cfg.date_range_str(obs_ds.time, info.freq)\n",
    "\n",
    "if plot_multiplicative_bc:\n",
    "    info_mulc_bc = cfg.InfoSet(\n",
    "        name=model_name,\n",
    "        metric=metric,\n",
    "        obs_file=obs_file,\n",
    "        project_dir=project_dir,\n",
    "        file=model_mulc_bc_file,\n",
    "        ds=model_mulc_bc_ds,\n",
    "        bias_correction=\"multiplicative\",\n",
    "        masked=False,\n",
    "    )\n",
    "    info_mulc_bc.date_range_obs = cfg.date_range_str(obs_ds.time, info.freq)"
   ]
  },
  {
   "cell_type": "code",
   "execution_count": null,
   "id": "73a2cfd7",
   "metadata": {},
   "outputs": [],
   "source": [
    "# Stack datasets\n",
    "model_ds_stacked = (\n",
    "    model_ds.dropna(lead_dim)\n",
    "    .stack({\"sample\": [ensemble_dim, init_dim, lead_dim]}, create_index=False)\n",
    "    .transpose(\"sample\", ...)\n",
    ")\n",
    "\n",
    "if plot_additive_bc:\n",
    "    model_add_bc_ds_stacked = (\n",
    "        model_add_bc_ds.dropna(lead_dim)\n",
    "        .stack({\"sample\": [ensemble_dim, init_dim, lead_dim]}, create_index=False)\n",
    "        .transpose(\"sample\", ...)\n",
    "    )\n",
    "    assert model_ds_stacked[var].shape == model_add_bc_ds_stacked[var].shape\n",
    "\n",
    "# Model multiplicative bias corrected data\n",
    "if plot_multiplicative_bc:\n",
    "    model_mulc_bc_ds_stacked = (\n",
    "        model_mulc_bc_ds.dropna(lead_dim)\n",
    "        .stack({\"sample\": [ensemble_dim, init_dim, lead_dim]}, create_index=False)\n",
    "        .transpose(\"sample\", ...)\n",
    "    )\n",
    "    assert model_ds_stacked[var].shape == model_mulc_bc_ds_stacked[var].shape"
   ]
  },
  {
   "cell_type": "code",
   "execution_count": null,
   "id": "c84978aa",
   "metadata": {},
   "outputs": [],
   "source": [
    "# Load GEV parameters\n",
    "covariate = model_ds_stacked[time_dim].dt.year\n",
    "# base_period = [model_ds.time.dt.year.min().load().item(), obs_ds.time.dt.year.max().load().item()]\n",
    "times = xr.DataArray(base_period, dims=info.time_dim)"
   ]
  },
  {
   "cell_type": "code",
   "execution_count": null,
   "id": "604d6b5d",
   "metadata": {},
   "outputs": [],
   "source": [
    "dparams_s = xr.open_dataset(gev_params_stationary_file)[var]\n",
    "dparams_ns = xr.open_dataset(gev_params_nonstationary_file)[var]\n",
    "# Ensure model ds and GEV parameters have the same lat/lon grid (hard to fit a\n",
    "# GEV at ocean points - usually apply a mask that drops some lat/lons)\n",
    "model_ds_stacked = model_add_bc_ds_stacked.sel(lat=dparams_ns.lat, lon=dparams_ns.lon)\n",
    "\n",
    "if plot_additive_bc:\n",
    "    dparams_add_bc_s = xr.open_dataset(gev_params_stationary_add_bc_file)[var]\n",
    "    dparams_add_bc_ns = xr.open_dataset(gev_params_nonstationary_add_bc_file)[var]\n",
    "    model_add_bc_ds_stacked = model_add_bc_ds_stacked.sel(\n",
    "        lat=dparams_add_bc_ns.lat, lon=dparams_add_bc_ns.lon\n",
    "    )\n",
    "\n",
    "if plot_multiplicative_bc:\n",
    "    dparams_mulc_bc_s = xr.open_dataset(gev_params_stationary_mulc_bc_file)[var]\n",
    "    dparams_mulc_bc_ns = xr.open_dataset(gev_params_nonstationary_mulc_bc_file)[var]\n",
    "    model_mulc_bc_ds_stacked = model_mulc_bc_ds_stacked.sel(\n",
    "        lat=dparams_mulc_bc_ns.lat, lon=dparams_mulc_bc_ns.lon\n",
    "    )\n",
    "print(dparams_s)\n",
    "print(dparams_ns)"
   ]
  },
  {
   "cell_type": "code",
   "execution_count": null,
   "id": "221e588f",
   "metadata": {},
   "outputs": [],
   "source": []
  },
  {
   "cell_type": "markdown",
   "id": "165a2e53",
   "metadata": {},
   "source": [
    "# Year when max/min event occured"
   ]
  },
  {
   "cell_type": "code",
   "execution_count": null,
   "id": "16fd082e",
   "metadata": {},
   "outputs": [],
   "source": [
    "for mask in [None, True]:\n",
    "    spatial_plots.plot_map_event_year(info, model_ds_stacked, time_agg, mask=mask)"
   ]
  },
  {
   "cell_type": "code",
   "execution_count": null,
   "id": "c955cd28",
   "metadata": {},
   "outputs": [],
   "source": [
    "# Additive bias corrected\n",
    "if plot_additive_bc:\n",
    "    for mask in [None, True]:\n",
    "        spatial_plots.plot_map_event_year(\n",
    "            info_add_bc, model_add_bc_ds_stacked, time_agg, mask=mask\n",
    "        )"
   ]
  },
  {
   "cell_type": "code",
   "execution_count": null,
   "id": "3beb4e21",
   "metadata": {},
   "outputs": [],
   "source": [
    "# Multiplicative bias corrected\n",
    "if plot_multiplicative_bc:\n",
    "    for mask in [None, True]:\n",
    "        spatial_plots.plot_map_event_year(\n",
    "            info_mulc_bc, model_mulc_bc_ds_stacked, time_agg, mask=mask\n",
    "        )"
   ]
  },
  {
   "cell_type": "markdown",
   "id": "ac9770e2",
   "metadata": {},
   "source": [
    "## Most common month for max/min event"
   ]
  },
  {
   "cell_type": "code",
   "execution_count": null,
   "id": "454e3d2e",
   "metadata": {},
   "outputs": [],
   "source": [
    "for mask in [None, True]:\n",
    "    spatial_plots.plot_map_event_month_mode(info, model_ds_stacked, mask=mask)"
   ]
  },
  {
   "cell_type": "code",
   "execution_count": null,
   "id": "2e0d87c9",
   "metadata": {},
   "outputs": [],
   "source": [
    "# Additive bias corrected\n",
    "if plot_additive_bc:\n",
    "    for mask in [None, True]:\n",
    "        spatial_plots.plot_map_event_month_mode(\n",
    "            info_add_bc, model_add_bc_ds_stacked, mask=mask\n",
    "        )"
   ]
  },
  {
   "cell_type": "code",
   "execution_count": null,
   "id": "41a82283",
   "metadata": {},
   "outputs": [],
   "source": [
    "# Multiplicative bias corrected\n",
    "if plot_multiplicative_bc:\n",
    "    for mask in [None, True]:\n",
    "        spatial_plots.plot_map_event_month_mode(\n",
    "            info_mulc_bc, model_mulc_bc_ds_stacked, mask=mask\n",
    "        )"
   ]
  },
  {
   "cell_type": "markdown",
   "id": "98d99237",
   "metadata": {},
   "source": [
    "\n",
    "## Map of metric median"
   ]
  },
  {
   "cell_type": "code",
   "execution_count": null,
   "id": "8c4ec4de",
   "metadata": {},
   "outputs": [],
   "source": [
    "for mask in [None, True]:\n",
    "    spatial_plots.plot_map_time_agg(info, model_ds_stacked, \"median\", mask=mask)"
   ]
  },
  {
   "cell_type": "code",
   "execution_count": null,
   "id": "e00a1e2c",
   "metadata": {},
   "outputs": [],
   "source": [
    "# Additive bias corrected\n",
    "if plot_additive_bc:\n",
    "    for mask in [None, True]:\n",
    "        spatial_plots.plot_map_time_agg(\n",
    "            info_add_bc, model_add_bc_ds_stacked, \"median\", mask=mask\n",
    "        )"
   ]
  },
  {
   "cell_type": "code",
   "execution_count": null,
   "id": "2de9b089",
   "metadata": {},
   "outputs": [],
   "source": [
    "# Multiplicative bias corrected\n",
    "if plot_multiplicative_bc:\n",
    "    for mask in [None, True]:\n",
    "        spatial_plots.plot_map_time_agg(\n",
    "            info_mulc_bc, model_mulc_bc_ds_stacked, \"median\", mask=mask\n",
    "        )"
   ]
  },
  {
   "cell_type": "markdown",
   "id": "17576f05",
   "metadata": {},
   "source": [
    "# Map of metric maximum or minimum"
   ]
  },
  {
   "cell_type": "code",
   "execution_count": null,
   "id": "0c206d2a",
   "metadata": {},
   "outputs": [],
   "source": [
    "for mask in [None, True]:\n",
    "    spatial_plots.plot_map_time_agg(info, model_ds_stacked, time_agg, mask=mask)"
   ]
  },
  {
   "cell_type": "code",
   "execution_count": null,
   "id": "946f3783",
   "metadata": {},
   "outputs": [],
   "source": [
    "# Additive bias corrected\n",
    "if plot_additive_bc:\n",
    "    for mask in [None, True]:\n",
    "        spatial_plots.plot_map_time_agg(\n",
    "            info_add_bc, model_add_bc_ds_stacked, time_agg, mask=mask\n",
    "        )"
   ]
  },
  {
   "cell_type": "code",
   "execution_count": null,
   "id": "98aad3bd",
   "metadata": {},
   "outputs": [],
   "source": [
    "# Multiplicative bias corrected\n",
    "if plot_multiplicative_bc:\n",
    "    for mask in [None, True]:\n",
    "        spatial_plots.plot_map_time_agg(\n",
    "            info_mulc_bc, model_mulc_bc_ds_stacked, time_agg, mask=mask\n",
    "        )"
   ]
  },
  {
   "cell_type": "markdown",
   "id": "42374ce6",
   "metadata": {},
   "source": [
    "# Model-observation comparison (soft records/grey swans)\n",
    "\n",
    "### Model minus observations (median anomaly)"
   ]
  },
  {
   "cell_type": "code",
   "execution_count": null,
   "id": "76022d77",
   "metadata": {},
   "outputs": [],
   "source": [
    "# Model minus observations (median anomaly, no bias correction)\n",
    "for mask in [None, True]:\n",
    "    spatial_plots.plot_map_obs_anom(\n",
    "        info, model_ds_stacked, obs_ds, \"median\", \"anom\", mask=mask\n",
    "    )"
   ]
  },
  {
   "cell_type": "code",
   "execution_count": null,
   "id": "37929fcb",
   "metadata": {},
   "outputs": [],
   "source": [
    "# Additive bias corrected\n",
    "if plot_additive_bc:\n",
    "    for mask in [None, True]:\n",
    "        spatial_plots.plot_map_obs_anom(\n",
    "            info_add_bc, model_add_bc_ds_stacked, obs_ds, \"median\", \"anom\", mask=mask\n",
    "        )"
   ]
  },
  {
   "cell_type": "code",
   "execution_count": null,
   "id": "f6f54e66",
   "metadata": {},
   "outputs": [],
   "source": [
    "# Multiplicative bias corrected\n",
    "if plot_multiplicative_bc:\n",
    "    for mask in [None, True]:\n",
    "        spatial_plots.plot_map_obs_anom(\n",
    "            info_mulc_bc, model_mulc_bc_ds_stacked, obs_ds, \"median\", \"anom\", mask=mask\n",
    "        )"
   ]
  },
  {
   "cell_type": "markdown",
   "id": "bfe778eb",
   "metadata": {},
   "source": [
    "### Model minus observations (maximum anomalies)"
   ]
  },
  {
   "cell_type": "code",
   "execution_count": null,
   "id": "a792a6b1",
   "metadata": {},
   "outputs": [],
   "source": [
    "anom_metrics = [\"anom\", \"anom_std\", \"anom_pct\", \"anom_2000yr\"]"
   ]
  },
  {
   "cell_type": "code",
   "execution_count": null,
   "id": "f44345c7",
   "metadata": {},
   "outputs": [],
   "source": [
    "for anom_metric in anom_metrics:\n",
    "    for mask in [None, True]:\n",
    "        spatial_plots.plot_map_obs_anom(\n",
    "            info,\n",
    "            model_ds_stacked,\n",
    "            obs_ds,\n",
    "            time_agg,\n",
    "            anom_metric,\n",
    "            dparams_ns,\n",
    "            covariate_year,\n",
    "            mask=mask,\n",
    "        )"
   ]
  },
  {
   "cell_type": "code",
   "execution_count": null,
   "id": "77137d47",
   "metadata": {},
   "outputs": [],
   "source": [
    "# Additive bias corrected\n",
    "if plot_additive_bc:\n",
    "    for anom_metric in anom_metrics:\n",
    "        for mask in [None, True]:\n",
    "            spatial_plots.plot_map_obs_anom(\n",
    "                info_add_bc,\n",
    "                model_add_bc_ds_stacked,\n",
    "                obs_ds,\n",
    "                time_agg,\n",
    "                anom_metric,\n",
    "                dparams_add_bc_ns,\n",
    "                covariate_year,\n",
    "                mask=mask,\n",
    "            )"
   ]
  },
  {
   "cell_type": "code",
   "execution_count": null,
   "id": "50c8dff2",
   "metadata": {},
   "outputs": [],
   "source": [
    "# Multiplicative bias corrected\n",
    "if plot_multiplicative_bc:\n",
    "    for anom_metric in anom_metrics:\n",
    "        for mask in [None, True]:\n",
    "            spatial_plots.plot_map_obs_anom(\n",
    "                info_mulc_bc,\n",
    "                model_mulc_bc_ds_stacked,\n",
    "                obs_ds,\n",
    "                time_agg,\n",
    "                anom_metric,\n",
    "                dparams_mulc_bc_ns,\n",
    "                covariate_year,\n",
    "                mask=mask,\n",
    "            )"
   ]
  },
  {
   "cell_type": "markdown",
   "id": "94be63cd",
   "metadata": {},
   "source": [
    "## Annual reccurence of observed max/min event"
   ]
  },
  {
   "cell_type": "code",
   "execution_count": null,
   "id": "8766d372",
   "metadata": {},
   "outputs": [],
   "source": [
    "for mask in [None, True]:\n",
    "    spatial_plots.plot_map_obs_ari(\n",
    "        info,\n",
    "        model_ds_stacked,\n",
    "        obs_ds,\n",
    "        dparams_ns,\n",
    "        covariate=covariate_year,\n",
    "        time_agg=time_agg,\n",
    "        mask=mask,\n",
    "    )"
   ]
  },
  {
   "cell_type": "code",
   "execution_count": null,
   "id": "eea76556",
   "metadata": {},
   "outputs": [],
   "source": [
    "# Additive bias corrected\n",
    "if plot_additive_bc:\n",
    "    for mask in [None, True]:\n",
    "        spatial_plots.plot_map_obs_ari(\n",
    "            info_add_bc,\n",
    "            model_add_bc_ds_stacked,\n",
    "            obs_ds,\n",
    "            dparams_add_bc_ns,\n",
    "            covariate=covariate_year,\n",
    "            time_agg=time_agg,\n",
    "            mask=mask,\n",
    "        )"
   ]
  },
  {
   "cell_type": "code",
   "execution_count": null,
   "id": "c241d1d3",
   "metadata": {},
   "outputs": [],
   "source": [
    "# Multiplicative bias corrected\n",
    "if plot_multiplicative_bc:\n",
    "    for mask in [None, True]:\n",
    "        spatial_plots.plot_map_obs_ari(\n",
    "            info_mulc_bc,\n",
    "            model_mulc_bc_ds_stacked,\n",
    "            obs_ds,\n",
    "            dparams_mulc_bc_ns,\n",
    "            covariate=covariate_year,\n",
    "            time_agg=time_agg,\n",
    "            mask=mask,\n",
    "        )"
   ]
  },
  {
   "cell_type": "markdown",
   "id": "17ea70af",
   "metadata": {},
   "source": [
    "## GEV parameter trends"
   ]
  },
  {
   "cell_type": "code",
   "execution_count": null,
   "id": "352a067b",
   "metadata": {},
   "outputs": [],
   "source": [
    "for param in [\"scale\", \"location\"]:\n",
    "    for mask in [None, True]:\n",
    "        spatial_plots.plot_map_gev_param_trend(\n",
    "            info, model_ds_stacked, dparams_ns, param=param, mask=mask\n",
    "        )"
   ]
  },
  {
   "cell_type": "code",
   "execution_count": null,
   "id": "8d7ba075",
   "metadata": {},
   "outputs": [],
   "source": [
    "# Additive bias corrected\n",
    "if plot_additive_bc:\n",
    "    for param in [\"scale\", \"location\"]:\n",
    "        for mask in [None, True]:\n",
    "            spatial_plots.plot_map_gev_param_trend(\n",
    "                info_add_bc,\n",
    "                model_add_bc_ds_stacked,\n",
    "                dparams_add_bc_ns,\n",
    "                param=param,\n",
    "                mask=mask,\n",
    "            )"
   ]
  },
  {
   "cell_type": "code",
   "execution_count": null,
   "id": "a7dd57e1",
   "metadata": {},
   "outputs": [],
   "source": [
    "# Multiplicative bias corrected\n",
    "if plot_multiplicative_bc:\n",
    "    for param in [\"scale\", \"location\"]:\n",
    "        for mask in [None, True]:\n",
    "            spatial_plots.plot_map_gev_param_trend(\n",
    "                info_mulc_bc,\n",
    "                model_mulc_bc_ds_stacked,\n",
    "                dparams_mulc_bc_ns,\n",
    "                param=param,\n",
    "                mask=mask,\n",
    "            )"
   ]
  },
  {
   "cell_type": "markdown",
   "id": "d47a0f29",
   "metadata": {},
   "source": [
    "## Annual exceedance probability"
   ]
  },
  {
   "cell_type": "code",
   "execution_count": null,
   "id": "280d952a",
   "metadata": {},
   "outputs": [],
   "source": [
    "# ARI: 5, 10, 50, 100, 1000 years (i.e., 20% AEP is equiv to a 1 in 5 year event)\n",
    "aep_list = [20, 10, 2, 1, 0.1]"
   ]
  },
  {
   "cell_type": "code",
   "execution_count": null,
   "id": "2b9cbe60",
   "metadata": {},
   "outputs": [],
   "source": [
    "for aep in aep_list:\n",
    "    for mask in [None, True]:\n",
    "        spatial_plots.plot_map_aep(\n",
    "            info,\n",
    "            model_ds_stacked,\n",
    "            dparams_ns,\n",
    "            times,\n",
    "            aep=aep,\n",
    "            mask=mask,\n",
    "        )"
   ]
  },
  {
   "cell_type": "code",
   "execution_count": null,
   "id": "99161dbd",
   "metadata": {},
   "outputs": [],
   "source": [
    "# Additive bias corrected\n",
    "if plot_additive_bc:\n",
    "    for aep in aep_list:\n",
    "        for mask in [None, True]:\n",
    "            spatial_plots.plot_map_aep(\n",
    "                info_add_bc,\n",
    "                model_add_bc_ds_stacked,\n",
    "                dparams_add_bc_ns,\n",
    "                times,\n",
    "                aep=aep,\n",
    "                mask=mask,\n",
    "            )"
   ]
  },
  {
   "cell_type": "code",
   "execution_count": null,
   "id": "d899f414",
   "metadata": {},
   "outputs": [],
   "source": [
    "# Multiplicative bias corrected\n",
    "if plot_multiplicative_bc:\n",
    "    for aep in aep_list:\n",
    "        for mask in [None, True]:\n",
    "            spatial_plots.plot_map_aep(\n",
    "                info_mulc_bc,\n",
    "                model_mulc_bc_ds_stacked,\n",
    "                dparams_mulc_bc_ns,\n",
    "                times,\n",
    "                aep=aep,\n",
    "                mask=mask,\n",
    "            )"
   ]
  },
  {
   "cell_type": "markdown",
   "id": "7efefd9b",
   "metadata": {},
   "source": [
    "# Probability of breaking the observed record"
   ]
  },
  {
   "cell_type": "code",
   "execution_count": null,
   "id": "5802dbf5",
   "metadata": {},
   "outputs": [],
   "source": [
    "for mask in [None, True]:\n",
    "    spatial_plots.plot_map_new_record_probability(\n",
    "        info,\n",
    "        model_ds,\n",
    "        obs_ds,\n",
    "        dparams_ns,\n",
    "        covariate_year,\n",
    "        time_agg,\n",
    "        ari=10,\n",
    "        mask=mask,\n",
    "    )"
   ]
  },
  {
   "cell_type": "code",
   "execution_count": null,
   "id": "c6204de2",
   "metadata": {},
   "outputs": [],
   "source": [
    "# Additive bias corrected\n",
    "if plot_additive_bc:\n",
    "    for mask in [None, True]:\n",
    "        spatial_plots.plot_map_new_record_probability(\n",
    "            info_add_bc,\n",
    "            model_add_bc_ds,\n",
    "            obs_ds,\n",
    "            dparams_add_bc_ns,\n",
    "            covariate_year,\n",
    "            time_agg,\n",
    "            ari=10,\n",
    "            mask=mask,\n",
    "        )"
   ]
  },
  {
   "cell_type": "code",
   "execution_count": null,
   "id": "c34de27c",
   "metadata": {},
   "outputs": [],
   "source": [
    "# Multiplicative bias corrected\n",
    "if plot_multiplicative_bc:\n",
    "    for mask in [None, True]:\n",
    "        spatial_plots.plot_map_new_record_probability(\n",
    "            info_mulc_bc,\n",
    "            model_mulc_bc_ds,\n",
    "            obs_ds,\n",
    "            dparams_mulc_bc_ns,\n",
    "            covariate_year,\n",
    "            time_agg,\n",
    "            ari=10,\n",
    "            mask=mask,\n",
    "        )"
   ]
  },
  {
   "cell_type": "markdown",
   "id": "2ede7dec",
   "metadata": {},
   "source": [
    "# Subsampling analysis"
   ]
  },
  {
   "cell_type": "code",
   "execution_count": null,
   "id": "25c841f5",
   "metadata": {},
   "outputs": [],
   "source": [
    "for mask in [None, True]:\n",
    "    spatial_plots.plot_map_time_agg_subsampled(\n",
    "        info, model_ds_stacked, obs_ds, time_agg, n_samples=1000, mask=mask\n",
    "    )"
   ]
  },
  {
   "cell_type": "code",
   "execution_count": null,
   "id": "b19f7962",
   "metadata": {},
   "outputs": [],
   "source": [
    "# Additive bias corrected\n",
    "if plot_additive_bc:\n",
    "    for mask in [None, True]:\n",
    "        spatial_plots.plot_map_time_agg_subsampled(\n",
    "            info_add_bc,\n",
    "            model_add_bc_ds_stacked,\n",
    "            obs_ds,\n",
    "            time_agg,\n",
    "            n_samples=1000,\n",
    "            mask=mask,\n",
    "        )"
   ]
  },
  {
   "cell_type": "code",
   "execution_count": null,
   "id": "f04c8110",
   "metadata": {},
   "outputs": [],
   "source": [
    "# Multiplicative bias corrected\n",
    "if plot_multiplicative_bc:\n",
    "    for mask in [None, True]:\n",
    "        spatial_plots.plot_map_time_agg_subsampled(\n",
    "            info_mulc_bc,\n",
    "            model_mulc_bc_ds_stacked,\n",
    "            obs_ds,\n",
    "            time_agg,\n",
    "            n_samples=1000,\n",
    "            mask=mask,\n",
    "        )"
   ]
  }
 ],
 "metadata": {
  "celltoolbar": "Tags",
  "kernelspec": {
   "display_name": "unseen",
   "language": "python",
   "name": "python3"
  },
  "language_info": {
   "codemirror_mode": {
    "name": "ipython",
    "version": 3
   },
   "file_extension": ".py",
   "mimetype": "text/x-python",
   "name": "python",
   "nbconvert_exporter": "python",
   "pygments_lexer": "ipython3",
   "version": "3.11.9"
  },
  "papermill": {
   "default_parameters": {},
   "duration": 208.255213,
   "end_time": "2023-03-06T02:53:13.009470",
   "environment_variables": {},
   "exception": true,
   "input_path": "analysis.ipynb",
   "output_path": "analysis_CanESM5.ipynb",
   "parameters": {
    "agcd_file": "/g/data/xv83/dbi599/east-coast-rain/data/Rx15day_AGCD-CSIRO_r005_1900-2022_annual-aug-to-sep_east-coast-flood-region.zarr.zip",
    "file_list": "/home/599/dbi599/east-coast-rain/file_lists/CanESM5_dcppA-hindcast_pr_files.txt",
    "independence_plot": "/g/data/xv83/dbi599/east-coast-rain/figures/independence-test_Rx15day_CanESM5-dcppA-hindcast_196101-201701_annual-aug-to-sep_east-coast-flood-region.png",
    "min_lead": 1,
    "model_add_bc_file": "/g/data/xv83/dbi599/east-coast-rain/data/Rx15day_CanESM5-dcppA-hindcast_196101-201701_annual-aug-to-sep_east-coast-flood-region_bias-corrected-AGCD-CSIRO-additive.zarr.zip",
    "model_file": "/g/data/xv83/dbi599/east-coast-rain/data/Rx15day_CanESM5-dcppA-hindcast_196101-201701_annual-aug-to-sep_east-coast-flood-region.zarr.zip",
    "model_mulc_bc_file": "/g/data/xv83/dbi599/east-coast-rain/data/Rx15day_CanESM5-dcppA-hindcast_196101-201701_annual-aug-to-sep_east-coast-flood-region_bias-corrected-AGCD-CSIRO-multiplicative.zarr.zip",
    "model_name": "CanESM5",
    "nino_file": "/g/data/xv83/dbi599/east-coast-rain/data/nino34-anomaly_CanESM5-dcppA-hindcast_196101-201701_base-196101-201701.nc",
    "region_name": "east-coast-flood-region",
    "shape_file": "/g/data/xv83/dbi599/east-coast-rain/shapefiles/east-coast-flood.shp",
    "similarity_add_bc_file": "/g/data/xv83/dbi599/east-coast-rain/data/similarity-test_Rx15day_CanESM5-dcppA-hindcast_196101-201701_annual-aug-to-sep_east-coast-flood-region_bias-corrected-AGCD-CSIRO-additive.zarr.zip",
    "similarity_mulc_bc_file": "/g/data/xv83/dbi599/east-coast-rain/data/similarity-test_Rx15day_CanESM5-dcppA-hindcast_196101-201701_annual-aug-to-sep_east-coast-flood-region_bias-corrected-AGCD-CSIRO-multiplicative.zarr.zip",
    "similarity_raw_file": "/g/data/xv83/dbi599/east-coast-rain/data/similarity-test_Rx15day_CanESM5-dcppA-hindcast_196101-201701_annual-aug-to-sep_east-coast-flood-region_AGCD-CSIRO.zarr.zip"
   },
   "start_time": "2023-03-06T02:49:44.754257",
   "version": "2.3.3"
  }
 },
 "nbformat": 4,
 "nbformat_minor": 5
}
