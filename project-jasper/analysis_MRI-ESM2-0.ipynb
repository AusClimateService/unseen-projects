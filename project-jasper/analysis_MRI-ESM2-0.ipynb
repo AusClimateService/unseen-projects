{
 "cells": [
  {
   "cell_type": "markdown",
   "id": "47f752fd",
   "metadata": {
    "tags": [
     "papermill-error-cell-tag"
    ]
   },
   "source": [
    "<span style=\"color:red; font-family:Helvetica Neue, Helvetica, Arial, sans-serif; font-size:2em;\">An Exception was encountered at '<a href=\"#papermill-error-cell\">In [14]</a>'.</span>"
   ]
  },
  {
   "cell_type": "markdown",
   "id": "4d047299",
   "metadata": {
    "papermill": {
     "duration": 0.0282,
     "end_time": "2024-03-14T02:08:26.717620",
     "exception": false,
     "start_time": "2024-03-14T02:08:26.689420",
     "status": "completed"
    },
    "tags": []
   },
   "source": [
    "# UNSEEN analysis\n"
   ]
  },
  {
   "cell_type": "code",
   "execution_count": 1,
   "id": "95569a41",
   "metadata": {
    "execution": {
     "iopub.execute_input": "2024-03-14T02:08:26.742639Z",
     "iopub.status.busy": "2024-03-14T02:08:26.741983Z",
     "iopub.status.idle": "2024-03-14T02:08:35.340225Z",
     "shell.execute_reply": "2024-03-14T02:08:35.338933Z"
    },
    "papermill": {
     "duration": 8.615004,
     "end_time": "2024-03-14T02:08:35.344642",
     "exception": false,
     "start_time": "2024-03-14T02:08:26.729638",
     "status": "completed"
    },
    "tags": []
   },
   "outputs": [],
   "source": [
    "import os\n",
    "import datetime\n",
    "import glob\n",
    "\n",
    "from collections import Counter\n",
    "import calendar\n",
    "import matplotlib.pyplot as plt\n",
    "import pandas as pd\n",
    "import numpy as np\n",
    "import cartopy\n",
    "import cartopy.crs as ccrs\n",
    "import geopandas as gp\n",
    "from IPython.display import Image\n",
    "from scipy.stats import genextreme as gev\n",
    "import xclim as xc\n",
    "import cmocean\n",
    "import seaborn as sns\n",
    "\n",
    "from unseen import fileio\n",
    "from unseen import stability\n",
    "from unseen import eva\n",
    "from unseen import general_utils"
   ]
  },
  {
   "cell_type": "code",
   "execution_count": 2,
   "id": "56e9e0ab",
   "metadata": {
    "execution": {
     "iopub.execute_input": "2024-03-14T02:08:35.384876Z",
     "iopub.status.busy": "2024-03-14T02:08:35.384387Z",
     "iopub.status.idle": "2024-03-14T02:08:35.390005Z",
     "shell.execute_reply": "2024-03-14T02:08:35.388869Z"
    },
    "papermill": {
     "duration": 0.021637,
     "end_time": "2024-03-14T02:08:35.393220",
     "exception": false,
     "start_time": "2024-03-14T02:08:35.371583",
     "status": "completed"
    },
    "tags": [
     "parameters"
    ]
   },
   "outputs": [],
   "source": [
    "# Optional parameters \n",
    "# (This cell is tagged \"parameters\")\n",
    "dpi = 300"
   ]
  },
  {
   "cell_type": "code",
   "execution_count": 3,
   "id": "ef14202e",
   "metadata": {
    "execution": {
     "iopub.execute_input": "2024-03-14T02:08:35.431968Z",
     "iopub.status.busy": "2024-03-14T02:08:35.431476Z",
     "iopub.status.idle": "2024-03-14T02:08:35.442823Z",
     "shell.execute_reply": "2024-03-14T02:08:35.441713Z"
    },
    "papermill": {
     "duration": 0.026161,
     "end_time": "2024-03-14T02:08:35.445182",
     "exception": false,
     "start_time": "2024-03-14T02:08:35.419021",
     "status": "completed"
    },
    "tags": [
     "injected-parameters"
    ]
   },
   "outputs": [],
   "source": [
    "# Parameters\n",
    "metric = \"rx5day\"\n",
    "var = \"pr\"\n",
    "metric_plot_label = \"rx5day (mm)\"\n",
    "metric_plot_upper_limit = 1500\n",
    "obs_file = \"/g/data/xv83/unseen-projects/outputs/tc-jasper/data/rx5day_AGCD-CSIRO_1901-2024_annual-aug-to-sep_daintree-river.nc\"\n",
    "model_file = \"/g/data/xv83/unseen-projects/outputs/tc-jasper/data/rx5day_MRI-ESM2-0-dcppA-hindcast_196011-201911_annual-aug-to-sep_daintree-river.nc\"\n",
    "model_add_bc_file = \"/g/data/xv83/unseen-projects/outputs/tc-jasper/data/rx5day_MRI-ESM2-0-dcppA-hindcast_196011-201911_annual-aug-to-sep_daintree-river_bias-corrected-AGCD-CSIRO-additive.nc\"\n",
    "model_mulc_bc_file = \"/g/data/xv83/unseen-projects/outputs/tc-jasper/data/rx5day_MRI-ESM2-0-dcppA-hindcast_196011-201911_annual-aug-to-sep_daintree-river_bias-corrected-AGCD-CSIRO-multiplicative.nc\"\n",
    "similarity_add_bc_file = \"/g/data/xv83/unseen-projects/outputs/tc-jasper/data/similarity-test_rx5day_MRI-ESM2-0-dcppA-hindcast_196011-201911_annual-aug-to-sep_daintree-river_bias-corrected-AGCD-CSIRO-additive.nc\"\n",
    "similarity_mulc_bc_file = \"/g/data/xv83/unseen-projects/outputs/tc-jasper/data/similarity-test_rx5day_MRI-ESM2-0-dcppA-hindcast_196011-201911_annual-aug-to-sep_daintree-river_bias-corrected-AGCD-CSIRO-multiplicative.nc\"\n",
    "similarity_raw_file = \"/g/data/xv83/unseen-projects/outputs/tc-jasper/data/similarity-test_rx5day_MRI-ESM2-0-dcppA-hindcast_196011-201911_annual-aug-to-sep_daintree-river_AGCD-CSIRO.nc\"\n",
    "independence_plot = \"/g/data/xv83/unseen-projects/outputs/tc-jasper/figures/independence-test_rx5day_MRI-ESM2-0-dcppA-hindcast_196011-201911_annual-aug-to-sep_daintree-river.png\"\n",
    "stability_plot_empirical = \"/g/data/xv83/unseen-projects/outputs/tc-jasper/figures/stability-test-empirical_rx5day_MRI-ESM2-0-dcppA-hindcast_196011-201911_annual-aug-to-sep_daintree-river.png\"\n",
    "stability_plot_gev = \"/g/data/xv83/unseen-projects/outputs/tc-jasper/figures/stability-test-gev_rx5day_MRI-ESM2-0-dcppA-hindcast_196011-201911_annual-aug-to-sep_daintree-river.png\"\n",
    "moments_add_plot = \"/g/data/xv83/unseen-projects/outputs/tc-jasper/figures/moments-test_rx5day_MRI-ESM2-0-dcppA-hindcast_196011-201911_annual-aug-to-sep_daintree-river_bias-corrected-AGCD-CSIRO-additive.png\"\n",
    "moments_mulc_plot = \"/g/data/xv83/unseen-projects/outputs/tc-jasper/figures/moments-test_rx5day_MRI-ESM2-0-dcppA-hindcast_196011-201911_annual-aug-to-sep_daintree-river_bias-corrected-AGCD-CSIRO-multiplicative.png\"\n",
    "moments_raw_plot = \"/g/data/xv83/unseen-projects/outputs/tc-jasper/figures/moments-test_rx5day_MRI-ESM2-0-dcppA-hindcast_196011-201911_annual-aug-to-sep_daintree-river_AGCD-CSIRO.png\"\n",
    "model_name = \"MRI-ESM2-0\"\n",
    "min_lead = 0\n",
    "region_name = \"daintree-river\"\n",
    "shape_file = (\n",
    "    \"/g/data/xv83/unseen-projects/outputs/tc-jasper/shapefiles/daintree_river.shp\"\n",
    ")\n",
    "shape_overlap = 0.001\n",
    "file_list = \"/g/data/xv83/unseen-projects/code/file_lists/MRI-ESM2-0_dcppA-hindcast_pr_files.txt\"\n"
   ]
  },
  {
   "cell_type": "code",
   "execution_count": 4,
   "id": "b9787631",
   "metadata": {
    "execution": {
     "iopub.execute_input": "2024-03-14T02:08:35.471353Z",
     "iopub.status.busy": "2024-03-14T02:08:35.471019Z",
     "iopub.status.idle": "2024-03-14T02:08:35.489187Z",
     "shell.execute_reply": "2024-03-14T02:08:35.487887Z"
    },
    "papermill": {
     "duration": 0.032025,
     "end_time": "2024-03-14T02:08:35.491208",
     "exception": false,
     "start_time": "2024-03-14T02:08:35.459183",
     "status": "completed"
    },
    "tags": []
   },
   "outputs": [],
   "source": [
    "# Required parameters\n",
    "assert 'metric' in locals(), \"Must provide a metric name\"\n",
    "assert 'var' in locals(), \"Must provide a variable name\"\n",
    "assert 'model_name' in locals(), \"Must provide a model name\"\n",
    "assert 'region_name' in locals(), \"Must provide a region name\"\n",
    "assert 'min_lead' in locals(), \"Must provide a minimum lead time\"\n",
    "assert 'shape_overlap' in locals(), \"Must provide a shape overlap fraction\"\n",
    "assert 'metric_plot_label' in locals(), \"Must provide a plot axis label for the metric\"\n",
    "assert 'metric_plot_upper_limit' in locals(), \"Must provide an upper limit for the metric value\"\n",
    "assert os.path.isfile(obs_file), \"Must provide an observations data file (papermill option -p obs_file [filepath])\"\n",
    "assert os.path.isfile(file_list), \"Must provide the input model files list (papermill option -p file_list [filepath])\"\n",
    "assert os.path.isfile(shape_file), \"Must provide the shapefile (papermill option -p shape_file [filepath])\"\n",
    "assert os.path.isfile(model_file), \"Must provide an model data file (papermill option -p model_file [filepath])\"\n",
    "assert os.path.isfile(model_add_bc_file), \"Must provide a model additive bias corrected data file (papermill option -p model_add_bc_file [filepath])\"\n",
    "assert os.path.isfile(model_mulc_bc_file), \"Must provide a model multiplicative bias corrected data file (papermill option -p model_mulc_bc_file [filepath])\"\n",
    "assert os.path.isfile(similarity_add_bc_file), \"Must provide an additive bias corrected similarity test file (papermill option -p similarity_add_bias_file [filepath])\"\n",
    "assert os.path.isfile(similarity_mulc_bc_file), \"Must provide an multiplicative bias corrected similarity test file (papermill option -p similarity_mulc_bias_file [filepath])\"\n",
    "assert os.path.isfile(similarity_raw_file), \"Must provide an raw data similarity test file (papermill option -p similarity_raw_file [filepath])\"\n",
    "assert os.path.isfile(independence_plot), \"Must provide an independence test plot (papermill option -p independence_plot [filepath])\"\n",
    "assert os.path.isfile(stability_plot_empirical), \"Must provide an empirical stability test plot (papermill option -p stability_plot_empirical [filepath])\"\n",
    "assert os.path.isfile(stability_plot_gev), \"Must provide a GEV stability test plot (papermill option -p stability_plot_gev [filepath])\"\n",
    "assert os.path.isfile(moments_add_plot), \"Must provide a moments test plot for the additive bias corrected data (papermill option -p moments_add_plot [filepath])\"\n",
    "assert os.path.isfile(moments_mulc_plot), \"Must provide a moments test plot for the multiplicative bias corrected data (papermill option -p moments_mulc_plot [filepath])\"\n",
    "assert os.path.isfile(moments_raw_plot), \"Must provide a moments test plot for the raw data (papermill option -p moments_raw_plot [filepath])\"\n"
   ]
  },
  {
   "cell_type": "code",
   "execution_count": 5,
   "id": "ddfc8ca8",
   "metadata": {
    "execution": {
     "iopub.execute_input": "2024-03-14T02:08:35.520694Z",
     "iopub.status.busy": "2024-03-14T02:08:35.520357Z",
     "iopub.status.idle": "2024-03-14T02:08:35.525179Z",
     "shell.execute_reply": "2024-03-14T02:08:35.524072Z"
    },
    "papermill": {
     "duration": 0.021893,
     "end_time": "2024-03-14T02:08:35.526874",
     "exception": false,
     "start_time": "2024-03-14T02:08:35.504981",
     "status": "completed"
    },
    "tags": []
   },
   "outputs": [],
   "source": [
    "units_dict = {\n",
    "    'pr': 'mm day-1'\n",
    "}"
   ]
  },
  {
   "cell_type": "markdown",
   "id": "5c8da4f2",
   "metadata": {
    "papermill": {
     "duration": 0.010115,
     "end_time": "2024-03-14T02:08:35.546907",
     "exception": false,
     "start_time": "2024-03-14T02:08:35.536792",
     "status": "completed"
    },
    "tags": []
   },
   "source": [
    "## Observations"
   ]
  },
  {
   "cell_type": "code",
   "execution_count": 6,
   "id": "f40952f6",
   "metadata": {
    "execution": {
     "iopub.execute_input": "2024-03-14T02:08:35.568185Z",
     "iopub.status.busy": "2024-03-14T02:08:35.567837Z",
     "iopub.status.idle": "2024-03-14T02:08:35.817264Z",
     "shell.execute_reply": "2024-03-14T02:08:35.816524Z"
    },
    "papermill": {
     "duration": 0.263394,
     "end_time": "2024-03-14T02:08:35.820204",
     "exception": false,
     "start_time": "2024-03-14T02:08:35.556810",
     "status": "completed"
    },
    "tags": []
   },
   "outputs": [],
   "source": [
    "obs_ds = fileio.open_dataset(obs_file)\n",
    "obs_ds = obs_ds.dropna('time')"
   ]
  },
  {
   "cell_type": "code",
   "execution_count": 7,
   "id": "9c701895",
   "metadata": {
    "execution": {
     "iopub.execute_input": "2024-03-14T02:08:35.864129Z",
     "iopub.status.busy": "2024-03-14T02:08:35.863889Z",
     "iopub.status.idle": "2024-03-14T02:08:35.872133Z",
     "shell.execute_reply": "2024-03-14T02:08:35.871096Z"
    },
    "papermill": {
     "duration": 0.022671,
     "end_time": "2024-03-14T02:08:35.874142",
     "exception": false,
     "start_time": "2024-03-14T02:08:35.851471",
     "status": "completed"
    },
    "tags": []
   },
   "outputs": [],
   "source": [
    "years = obs_ds['time'].dt.year.values\n",
    "obs_df = pd.DataFrame(index=years)\n",
    "obs_df[var] = obs_ds[var].values"
   ]
  },
  {
   "cell_type": "code",
   "execution_count": 8,
   "id": "c8bfcbcf",
   "metadata": {
    "execution": {
     "iopub.execute_input": "2024-03-14T02:08:35.900955Z",
     "iopub.status.busy": "2024-03-14T02:08:35.900619Z",
     "iopub.status.idle": "2024-03-14T02:08:35.909338Z",
     "shell.execute_reply": "2024-03-14T02:08:35.908140Z"
    },
    "papermill": {
     "duration": 0.024302,
     "end_time": "2024-03-14T02:08:35.911211",
     "exception": false,
     "start_time": "2024-03-14T02:08:35.886909",
     "status": "completed"
    },
    "tags": []
   },
   "outputs": [
    {
     "name": "stdout",
     "output_type": "stream",
     "text": [
      "1459.442\n"
     ]
    }
   ],
   "source": [
    "obs_max_event = obs_ds['pr'].values.max()\n",
    "print(obs_max_event)"
   ]
  },
  {
   "cell_type": "markdown",
   "id": "d082e6af",
   "metadata": {
    "papermill": {
     "duration": 0.012634,
     "end_time": "2024-03-14T02:08:35.934440",
     "exception": false,
     "start_time": "2024-03-14T02:08:35.921806",
     "status": "completed"
    },
    "tags": []
   },
   "source": [
    "## Model ensemble"
   ]
  },
  {
   "cell_type": "markdown",
   "id": "f127f972",
   "metadata": {
    "papermill": {
     "duration": 0.009973,
     "end_time": "2024-03-14T02:08:35.957238",
     "exception": false,
     "start_time": "2024-03-14T02:08:35.947265",
     "status": "completed"
    },
    "tags": []
   },
   "source": [
    "### Region selection"
   ]
  },
  {
   "cell_type": "code",
   "execution_count": 9,
   "id": "0c5bfc47",
   "metadata": {
    "execution": {
     "iopub.execute_input": "2024-03-14T02:08:35.978810Z",
     "iopub.status.busy": "2024-03-14T02:08:35.978469Z",
     "iopub.status.idle": "2024-03-14T02:08:36.027092Z",
     "shell.execute_reply": "2024-03-14T02:08:36.025792Z"
    },
    "papermill": {
     "duration": 0.061688,
     "end_time": "2024-03-14T02:08:36.029003",
     "exception": false,
     "start_time": "2024-03-14T02:08:35.967315",
     "status": "completed"
    },
    "tags": []
   },
   "outputs": [],
   "source": [
    "with open(file_list) as f:\n",
    "    all_files = f.read()\n",
    "    first_file = all_files.split('\\n', 1)[0]"
   ]
  },
  {
   "cell_type": "code",
   "execution_count": 10,
   "id": "9de3847d",
   "metadata": {
    "execution": {
     "iopub.execute_input": "2024-03-14T02:08:36.051629Z",
     "iopub.status.busy": "2024-03-14T02:08:36.051214Z",
     "iopub.status.idle": "2024-03-14T02:08:36.063367Z",
     "shell.execute_reply": "2024-03-14T02:08:36.062089Z"
    },
    "papermill": {
     "duration": 0.025891,
     "end_time": "2024-03-14T02:08:36.065290",
     "exception": false,
     "start_time": "2024-03-14T02:08:36.039399",
     "status": "completed"
    },
    "tags": []
   },
   "outputs": [
    {
     "data": {
      "text/plain": [
       "'/g/data/oi10/replicas/CMIP6/DCPP/MRI/MRI-ESM2-0/dcppA-hindcast/s1960-r1i1p1f1/day/pr/gn/v20210122/pr_day_MRI-ESM2-0_dcppA-hindcast_s1960-r1i1p1f1_gn_19601101-19651231.nc'"
      ]
     },
     "execution_count": 10,
     "metadata": {},
     "output_type": "execute_result"
    }
   ],
   "source": [
    "first_file"
   ]
  },
  {
   "cell_type": "code",
   "execution_count": 11,
   "id": "d218574b",
   "metadata": {
    "execution": {
     "iopub.execute_input": "2024-03-14T02:08:36.091609Z",
     "iopub.status.busy": "2024-03-14T02:08:36.091277Z",
     "iopub.status.idle": "2024-03-14T02:08:36.273037Z",
     "shell.execute_reply": "2024-03-14T02:08:36.272183Z"
    },
    "papermill": {
     "duration": 0.19935,
     "end_time": "2024-03-14T02:08:36.275238",
     "exception": false,
     "start_time": "2024-03-14T02:08:36.075888",
     "status": "completed"
    },
    "tags": []
   },
   "outputs": [],
   "source": [
    "shapes = gp.read_file(shape_file)"
   ]
  },
  {
   "cell_type": "code",
   "execution_count": 12,
   "id": "6b9e6200",
   "metadata": {
    "execution": {
     "iopub.execute_input": "2024-03-14T02:08:36.305325Z",
     "iopub.status.busy": "2024-03-14T02:08:36.304999Z",
     "iopub.status.idle": "2024-03-14T02:08:36.310481Z",
     "shell.execute_reply": "2024-03-14T02:08:36.309398Z"
    },
    "papermill": {
     "duration": 0.018448,
     "end_time": "2024-03-14T02:08:36.312149",
     "exception": false,
     "start_time": "2024-03-14T02:08:36.293701",
     "status": "completed"
    },
    "tags": []
   },
   "outputs": [],
   "source": [
    "isel_dict = {}\n",
    "if model_name == 'CAFE':\n",
    "    isel_dict['ensemble'] = 0\n",
    "    metadata_file = '/g/data/xv83/unseen-projects/code/dataset_config/dataset_cafe_daily.yml'\n",
    "else:\n",
    "    metadata_file = None"
   ]
  },
  {
   "cell_type": "code",
   "execution_count": 13,
   "id": "3c232f49",
   "metadata": {
    "execution": {
     "iopub.execute_input": "2024-03-14T02:08:36.334210Z",
     "iopub.status.busy": "2024-03-14T02:08:36.333835Z",
     "iopub.status.idle": "2024-03-14T02:08:51.309422Z",
     "shell.execute_reply": "2024-03-14T02:08:51.308313Z"
    },
    "papermill": {
     "duration": 14.99062,
     "end_time": "2024-03-14T02:08:51.313133",
     "exception": false,
     "start_time": "2024-03-14T02:08:36.322513",
     "status": "completed"
    },
    "tags": []
   },
   "outputs": [],
   "source": [
    "region_ds = fileio.open_dataset(\n",
    "    first_file,\n",
    "    metadata_file=metadata_file,\n",
    "    variables=[var],\n",
    "    lat_bnds=[-44, -10],\n",
    "    lon_bnds=[113, 155],\n",
    "    shapefile=shape_file,\n",
    "    shape_overlap=shape_overlap,\n",
    "    units={var: units_dict[var]},\n",
    "    isel=isel_dict,\n",
    ")"
   ]
  },
  {
   "cell_type": "markdown",
   "id": "da568e57",
   "metadata": {
    "tags": [
     "papermill-error-cell-tag"
    ]
   },
   "source": [
    "<span id=\"papermill-error-cell\" style=\"color:red; font-family:Helvetica Neue, Helvetica, Arial, sans-serif; font-size:2em;\">Execution using papermill encountered an exception here and stopped:</span>"
   ]
  },
  {
   "cell_type": "code",
   "execution_count": 14,
   "id": "0eba243a",
   "metadata": {
    "execution": {
     "iopub.execute_input": "2024-03-14T02:08:51.366036Z",
     "iopub.status.busy": "2024-03-14T02:08:51.365378Z",
     "iopub.status.idle": "2024-03-14T02:08:59.677053Z",
     "shell.execute_reply": "2024-03-14T02:08:59.676070Z"
    },
    "papermill": {
     "duration": 8.343679,
     "end_time": "2024-03-14T02:08:59.679876",
     "exception": true,
     "start_time": "2024-03-14T02:08:51.336197",
     "status": "failed"
    },
    "tags": []
   },
   "outputs": [
    {
     "ename": "TypeError",
     "evalue": "No numeric data to plot.",
     "output_type": "error",
     "traceback": [
      "\u001b[0;31m---------------------------------------------------------------------------\u001b[0m",
      "\u001b[0;31mTypeError\u001b[0m                                 Traceback (most recent call last)",
      "Cell \u001b[0;32mIn[14], line 3\u001b[0m\n\u001b[1;32m      1\u001b[0m fig \u001b[38;5;241m=\u001b[39m plt\u001b[38;5;241m.\u001b[39mfigure(figsize\u001b[38;5;241m=\u001b[39m[\u001b[38;5;241m12\u001b[39m,\u001b[38;5;241m8\u001b[39m])\n\u001b[1;32m      2\u001b[0m ax \u001b[38;5;241m=\u001b[39m fig\u001b[38;5;241m.\u001b[39madd_subplot(\u001b[38;5;241m111\u001b[39m, projection\u001b[38;5;241m=\u001b[39mccrs\u001b[38;5;241m.\u001b[39mPlateCarree())\n\u001b[0;32m----> 3\u001b[0m \u001b[43mregion_ds\u001b[49m\u001b[43m[\u001b[49m\u001b[43mvar\u001b[49m\u001b[43m]\u001b[49m\u001b[38;5;241;43m.\u001b[39;49m\u001b[43mmean\u001b[49m\u001b[43m(\u001b[49m\u001b[38;5;124;43m'\u001b[39;49m\u001b[38;5;124;43mtime\u001b[39;49m\u001b[38;5;124;43m'\u001b[39;49m\u001b[43m,\u001b[49m\u001b[43m \u001b[49m\u001b[43mkeep_attrs\u001b[49m\u001b[38;5;241;43m=\u001b[39;49m\u001b[38;5;28;43;01mTrue\u001b[39;49;00m\u001b[43m)\u001b[49m\u001b[38;5;241;43m.\u001b[39;49m\u001b[43mplot\u001b[49m\u001b[43m(\u001b[49m\n\u001b[1;32m      4\u001b[0m \u001b[43m    \u001b[49m\u001b[43max\u001b[49m\u001b[38;5;241;43m=\u001b[39;49m\u001b[43max\u001b[49m\u001b[43m,\u001b[49m\n\u001b[1;32m      5\u001b[0m \u001b[43m    \u001b[49m\u001b[43mtransform\u001b[49m\u001b[38;5;241;43m=\u001b[39;49m\u001b[43mccrs\u001b[49m\u001b[38;5;241;43m.\u001b[39;49m\u001b[43mPlateCarree\u001b[49m\u001b[43m(\u001b[49m\u001b[43m)\u001b[49m\u001b[43m,\u001b[49m\n\u001b[1;32m      6\u001b[0m \u001b[43m    \u001b[49m\u001b[43mcmap\u001b[49m\u001b[38;5;241;43m=\u001b[39;49m\u001b[38;5;124;43m'\u001b[39;49m\u001b[38;5;124;43mviridis_r\u001b[39;49m\u001b[38;5;124;43m'\u001b[39;49m\u001b[43m,\u001b[49m\n\u001b[1;32m      7\u001b[0m \u001b[43m)\u001b[49m\n\u001b[1;32m      8\u001b[0m ax\u001b[38;5;241m.\u001b[39mcoastlines()\n\u001b[1;32m      9\u001b[0m ax\u001b[38;5;241m.\u001b[39madd_feature(cartopy\u001b[38;5;241m.\u001b[39mfeature\u001b[38;5;241m.\u001b[39mSTATES)\n",
      "File \u001b[0;32m/g/data/xv83/dbi599/miniconda3/envs/unseen2/lib/python3.10/site-packages/xarray/plot/accessor.py:48\u001b[0m, in \u001b[0;36mDataArrayPlotAccessor.__call__\u001b[0;34m(self, **kwargs)\u001b[0m\n\u001b[1;32m     46\u001b[0m \u001b[38;5;129m@functools\u001b[39m\u001b[38;5;241m.\u001b[39mwraps(dataarray_plot\u001b[38;5;241m.\u001b[39mplot, assigned\u001b[38;5;241m=\u001b[39m(\u001b[38;5;124m\"\u001b[39m\u001b[38;5;124m__doc__\u001b[39m\u001b[38;5;124m\"\u001b[39m, \u001b[38;5;124m\"\u001b[39m\u001b[38;5;124m__annotations__\u001b[39m\u001b[38;5;124m\"\u001b[39m))\n\u001b[1;32m     47\u001b[0m \u001b[38;5;28;01mdef\u001b[39;00m \u001b[38;5;21m__call__\u001b[39m(\u001b[38;5;28mself\u001b[39m, \u001b[38;5;241m*\u001b[39m\u001b[38;5;241m*\u001b[39mkwargs) \u001b[38;5;241m-\u001b[39m\u001b[38;5;241m>\u001b[39m Any:\n\u001b[0;32m---> 48\u001b[0m     \u001b[38;5;28;01mreturn\u001b[39;00m \u001b[43mdataarray_plot\u001b[49m\u001b[38;5;241;43m.\u001b[39;49m\u001b[43mplot\u001b[49m\u001b[43m(\u001b[49m\u001b[38;5;28;43mself\u001b[39;49m\u001b[38;5;241;43m.\u001b[39;49m\u001b[43m_da\u001b[49m\u001b[43m,\u001b[49m\u001b[43m \u001b[49m\u001b[38;5;241;43m*\u001b[39;49m\u001b[38;5;241;43m*\u001b[39;49m\u001b[43mkwargs\u001b[49m\u001b[43m)\u001b[49m\n",
      "File \u001b[0;32m/g/data/xv83/dbi599/miniconda3/envs/unseen2/lib/python3.10/site-packages/xarray/plot/dataarray_plot.py:281\u001b[0m, in \u001b[0;36mplot\u001b[0;34m(darray, row, col, col_wrap, ax, hue, subplot_kws, **kwargs)\u001b[0m\n\u001b[1;32m    278\u001b[0m plotfunc: Callable\n\u001b[1;32m    280\u001b[0m \u001b[38;5;28;01mif\u001b[39;00m ndims \u001b[38;5;241m==\u001b[39m \u001b[38;5;241m0\u001b[39m \u001b[38;5;129;01mor\u001b[39;00m darray\u001b[38;5;241m.\u001b[39msize \u001b[38;5;241m==\u001b[39m \u001b[38;5;241m0\u001b[39m:\n\u001b[0;32m--> 281\u001b[0m     \u001b[38;5;28;01mraise\u001b[39;00m \u001b[38;5;167;01mTypeError\u001b[39;00m(\u001b[38;5;124m\"\u001b[39m\u001b[38;5;124mNo numeric data to plot.\u001b[39m\u001b[38;5;124m\"\u001b[39m)\n\u001b[1;32m    282\u001b[0m \u001b[38;5;28;01mif\u001b[39;00m ndims \u001b[38;5;129;01min\u001b[39;00m (\u001b[38;5;241m1\u001b[39m, \u001b[38;5;241m2\u001b[39m):\n\u001b[1;32m    283\u001b[0m     \u001b[38;5;28;01mif\u001b[39;00m row \u001b[38;5;129;01mor\u001b[39;00m col:\n",
      "\u001b[0;31mTypeError\u001b[0m: No numeric data to plot."
     ]
    },
    {
     "data": {
      "image/png": "[encoded data removed]",
      "text/plain": [
       "<Figure size 1200x800 with 1 Axes>"
      ]
     },
     "metadata": {},
     "output_type": "display_data"
    }
   ],
   "source": [
    "fig = plt.figure(figsize=[12,8])\n",
    "ax = fig.add_subplot(111, projection=ccrs.PlateCarree())\n",
    "region_ds[var].mean('time', keep_attrs=True).plot(\n",
    "    ax=ax,\n",
    "    transform=ccrs.PlateCarree(),\n",
    "    cmap='viridis_r',\n",
    ")\n",
    "ax.coastlines()\n",
    "ax.add_feature(cartopy.feature.STATES)\n",
    "ax.add_geometries(shapes.geometry, ccrs.PlateCarree(), facecolor='none', edgecolor='orange')\n",
    "plt.show()"
   ]
  },
  {
   "cell_type": "markdown",
   "id": "146854fe",
   "metadata": {
    "papermill": {
     "duration": null,
     "end_time": null,
     "exception": null,
     "start_time": null,
     "status": "pending"
    },
    "tags": []
   },
   "source": [
    "### Model data"
   ]
  },
  {
   "cell_type": "code",
   "execution_count": null,
   "id": "1620b927",
   "metadata": {
    "papermill": {
     "duration": null,
     "end_time": null,
     "exception": null,
     "start_time": null,
     "status": "pending"
    },
    "tags": []
   },
   "outputs": [],
   "source": [
    "model_ds = fileio.open_dataset(model_file)\n",
    "model_add_bc_ds = fileio.open_dataset(model_add_bc_file)\n",
    "model_mulc_bc_ds = fileio.open_dataset(model_mulc_bc_file)"
   ]
  },
  {
   "cell_type": "code",
   "execution_count": null,
   "id": "b3d4100a",
   "metadata": {
    "papermill": {
     "duration": null,
     "end_time": null,
     "exception": null,
     "start_time": null,
     "status": "pending"
    },
    "tags": []
   },
   "outputs": [],
   "source": [
    "model_ds"
   ]
  },
  {
   "cell_type": "markdown",
   "id": "b25bd815",
   "metadata": {
    "papermill": {
     "duration": null,
     "end_time": null,
     "exception": null,
     "start_time": null,
     "status": "pending"
    },
    "tags": []
   },
   "source": [
    "### Independence testing"
   ]
  },
  {
   "cell_type": "code",
   "execution_count": null,
   "id": "b819d698",
   "metadata": {
    "papermill": {
     "duration": null,
     "end_time": null,
     "exception": null,
     "start_time": null,
     "status": "pending"
    },
    "tags": []
   },
   "outputs": [],
   "source": [
    "Image(filename=independence_plot)"
   ]
  },
  {
   "cell_type": "code",
   "execution_count": null,
   "id": "a5ccabe2",
   "metadata": {
    "papermill": {
     "duration": null,
     "end_time": null,
     "exception": null,
     "start_time": null,
     "status": "pending"
    },
    "tags": []
   },
   "outputs": [],
   "source": [
    "print(min_lead)"
   ]
  },
  {
   "cell_type": "code",
   "execution_count": null,
   "id": "e055048c",
   "metadata": {
    "papermill": {
     "duration": null,
     "end_time": null,
     "exception": null,
     "start_time": null,
     "status": "pending"
    },
    "tags": []
   },
   "outputs": [],
   "source": [
    "model_da = model_ds[var].where(model_ds['lead_time'] >= min_lead)"
   ]
  },
  {
   "cell_type": "code",
   "execution_count": null,
   "id": "6b40107c",
   "metadata": {
    "papermill": {
     "duration": null,
     "end_time": null,
     "exception": null,
     "start_time": null,
     "status": "pending"
    },
    "tags": []
   },
   "outputs": [],
   "source": [
    "model_da_stacked = model_da.dropna('lead_time').stack({'sample': ['ensemble', 'init_date', 'lead_time']})"
   ]
  },
  {
   "cell_type": "code",
   "execution_count": null,
   "id": "10aaf4a0",
   "metadata": {
    "papermill": {
     "duration": null,
     "end_time": null,
     "exception": null,
     "start_time": null,
     "status": "pending"
    },
    "tags": []
   },
   "outputs": [],
   "source": [
    "model_da_stacked.shape"
   ]
  },
  {
   "cell_type": "code",
   "execution_count": null,
   "id": "f0b0019b",
   "metadata": {
    "papermill": {
     "duration": null,
     "end_time": null,
     "exception": null,
     "start_time": null,
     "status": "pending"
    },
    "tags": []
   },
   "outputs": [],
   "source": [
    "model_add_bc_da_stacked = model_add_bc_ds.dropna('lead_time')[var].stack({'sample': ['ensemble', 'init_date', 'lead_time']})"
   ]
  },
  {
   "cell_type": "code",
   "execution_count": null,
   "id": "7d4fdc9e",
   "metadata": {
    "papermill": {
     "duration": null,
     "end_time": null,
     "exception": null,
     "start_time": null,
     "status": "pending"
    },
    "tags": []
   },
   "outputs": [],
   "source": [
    "model_add_bc_da_stacked.shape"
   ]
  },
  {
   "cell_type": "code",
   "execution_count": null,
   "id": "8a7afb26-20cf-43e6-b647-9f40e7586682",
   "metadata": {
    "papermill": {
     "duration": null,
     "end_time": null,
     "exception": null,
     "start_time": null,
     "status": "pending"
    },
    "tags": []
   },
   "outputs": [],
   "source": [
    "model_mulc_bc_da_stacked = model_mulc_bc_ds.dropna('lead_time')[var].stack({'sample': ['ensemble', 'init_date', 'lead_time']})"
   ]
  },
  {
   "cell_type": "code",
   "execution_count": null,
   "id": "80b2f212-366a-4dcd-bfbe-1f5dc232cb64",
   "metadata": {
    "papermill": {
     "duration": null,
     "end_time": null,
     "exception": null,
     "start_time": null,
     "status": "pending"
    },
    "tags": []
   },
   "outputs": [],
   "source": [
    "model_mulc_bc_da_stacked.shape"
   ]
  },
  {
   "cell_type": "markdown",
   "id": "2e91cbd6",
   "metadata": {
    "papermill": {
     "duration": null,
     "end_time": null,
     "exception": null,
     "start_time": null,
     "status": "pending"
    },
    "tags": []
   },
   "source": [
    "### Stability testing"
   ]
  },
  {
   "cell_type": "code",
   "execution_count": null,
   "id": "00c55fd3",
   "metadata": {
    "papermill": {
     "duration": null,
     "end_time": null,
     "exception": null,
     "start_time": null,
     "status": "pending"
    },
    "tags": []
   },
   "outputs": [],
   "source": [
    "Image(filename=stability_plot_empirical)"
   ]
  },
  {
   "cell_type": "code",
   "execution_count": null,
   "id": "3cdc1506",
   "metadata": {
    "papermill": {
     "duration": null,
     "end_time": null,
     "exception": null,
     "start_time": null,
     "status": "pending"
    },
    "tags": []
   },
   "outputs": [],
   "source": [
    "Image(filename=stability_plot_gev)"
   ]
  },
  {
   "cell_type": "markdown",
   "id": "1e039e61",
   "metadata": {
    "papermill": {
     "duration": null,
     "end_time": null,
     "exception": null,
     "start_time": null,
     "status": "pending"
    },
    "tags": []
   },
   "source": [
    "### Bias correction and similarity testing"
   ]
  },
  {
   "cell_type": "code",
   "execution_count": null,
   "id": "bf650636",
   "metadata": {
    "papermill": {
     "duration": null,
     "end_time": null,
     "exception": null,
     "start_time": null,
     "status": "pending"
    },
    "tags": []
   },
   "outputs": [],
   "source": [
    "model_gev_shape, model_gev_loc, model_gev_scale = eva.fit_gev(model_da_stacked.values)\n",
    "model_add_bc_gev_shape, model_add_bc_gev_loc, model_add_bc_gev_scale = eva.fit_gev(model_add_bc_da_stacked.values)\n",
    "model_mulc_bc_gev_shape, model_mulc_bc_gev_loc, model_mulc_bc_gev_scale = eva.fit_gev(model_mulc_bc_da_stacked.values)"
   ]
  },
  {
   "cell_type": "code",
   "execution_count": null,
   "id": "110c554e",
   "metadata": {
    "papermill": {
     "duration": null,
     "end_time": null,
     "exception": null,
     "start_time": null,
     "status": "pending"
    },
    "tags": []
   },
   "outputs": [],
   "source": [
    "def plot_distributions(include_additive=False):\n",
    "    \"\"\"Plot various distributions\"\"\"\n",
    "\n",
    "    fig = plt.figure(figsize=[10, 6])\n",
    "    gev_xvals = np.arange(0, metric_plot_upper_limit)\n",
    "\n",
    "    model_da.plot.hist(\n",
    "        bins=50, density=True, label=model_name, alpha=0.7, facecolor='tab:blue',\n",
    "    )\n",
    "    model_gev_pdf = gev.pdf(gev_xvals, model_gev_shape, model_gev_loc, model_gev_scale)\n",
    "    plt.plot(gev_xvals, model_gev_pdf, color='tab:blue', linewidth=4.0)\n",
    "\n",
    "    if include_additive:\n",
    "        model_add_bc_ds[var].plot.hist(\n",
    "            bins=50, density=True, label=f'{model_name} additive bias corrected', facecolor='tab:red', alpha=0.7\n",
    "        )\n",
    "        model_add_bc_gev_pdf = gev.pdf(gev_xvals, model_add_bc_gev_shape, model_add_bc_gev_loc, model_add_bc_gev_scale)\n",
    "        plt.plot(gev_xvals, model_add_bc_gev_pdf, color='tab:red', linewidth=4.0)\n",
    "\n",
    "    model_mulc_bc_ds[var].plot.hist(\n",
    "        bins=50, density=True, label=f'{model_name} multiplicative bias corrected', facecolor='tab:orange', alpha=0.7\n",
    "    )\n",
    "    model_mulc_bc_gev_pdf = gev.pdf(gev_xvals, model_mulc_bc_gev_shape, model_mulc_bc_gev_loc, model_mulc_bc_gev_scale)\n",
    "    plt.plot(gev_xvals, model_mulc_bc_gev_pdf, color='tab:orange', linewidth=4.0)\n",
    "\n",
    "    obs_ds[var].plot.hist(\n",
    "        bins=50, density=True, label='observations', facecolor='tab:gray', alpha=0.7\n",
    "    )\n",
    "    obs_gev_shape, obs_gev_loc, obs_gev_scale = eva.fit_gev(obs_ds[var].values)\n",
    "    obs_gev_pdf = gev.pdf(gev_xvals, obs_gev_shape, obs_gev_loc, obs_gev_scale)\n",
    "    plt.plot(gev_xvals, obs_gev_pdf, color='tab:gray', linewidth=4.0)\n",
    "\n",
    "    plt.xlabel(metric_plot_label)\n",
    "    plt.ylabel('probability')\n",
    "    plt.title(f'{metric} for {region_name} ({model_name})')\n",
    "    plt.xlim(0, metric_plot_upper_limit)\n",
    "    plt.legend()\n",
    "    #if not include_additive:\n",
    "    #    outfile = f'/g/data/xv83/unseen-projects/outputs/tc-jasper/figures/{metric}_histogram_{model_name}_{region_name}.png'\n",
    "    #    print(outfile)\n",
    "    #    plt.savefig(outfile, bbox_inches='tight', facecolor='white', dpi=dpi)\n",
    "    plt.show()"
   ]
  },
  {
   "cell_type": "code",
   "execution_count": null,
   "id": "9ab62780",
   "metadata": {
    "papermill": {
     "duration": null,
     "end_time": null,
     "exception": null,
     "start_time": null,
     "status": "pending"
    },
    "tags": []
   },
   "outputs": [],
   "source": [
    "plot_distributions()"
   ]
  },
  {
   "cell_type": "code",
   "execution_count": null,
   "id": "d58c8965",
   "metadata": {
    "papermill": {
     "duration": null,
     "end_time": null,
     "exception": null,
     "start_time": null,
     "status": "pending"
    },
    "tags": []
   },
   "outputs": [],
   "source": [
    "plot_distributions(include_additive=True)"
   ]
  },
  {
   "cell_type": "code",
   "execution_count": null,
   "id": "0865704a-5962-4cf3-ae1a-72ea501aeac8",
   "metadata": {
    "papermill": {
     "duration": null,
     "end_time": null,
     "exception": null,
     "start_time": null,
     "status": "pending"
    },
    "tags": []
   },
   "outputs": [],
   "source": [
    "print(f'raw data shape parameter: {model_gev_shape:.3f}')\n",
    "print(f'raw data location parameter: {model_gev_loc:.3f}') \n",
    "print(f'raw data scale parameter: {model_gev_scale:.3f}')"
   ]
  },
  {
   "cell_type": "code",
   "execution_count": null,
   "id": "1ee68ad7-da09-4cb8-88c3-5a2c3b830cd9",
   "metadata": {
    "papermill": {
     "duration": null,
     "end_time": null,
     "exception": null,
     "start_time": null,
     "status": "pending"
    },
    "tags": []
   },
   "outputs": [],
   "source": [
    "print(f'additive corrected shape parameter: {model_add_bc_gev_shape:.3f}')\n",
    "print(f'additive corrected location parameter: {model_add_bc_gev_loc:.3f}') \n",
    "print(f'additive corrected scale parameter: {model_add_bc_gev_scale:.3f}')"
   ]
  },
  {
   "cell_type": "code",
   "execution_count": null,
   "id": "51ebbd48-8972-4dbf-9fb5-604f81110fb0",
   "metadata": {
    "papermill": {
     "duration": null,
     "end_time": null,
     "exception": null,
     "start_time": null,
     "status": "pending"
    },
    "tags": []
   },
   "outputs": [],
   "source": [
    "print(f'multiplicative corrected shape parameter: {model_mulc_bc_gev_shape:.3f}')\n",
    "print(f'multiplicative corrected location parameter: {model_mulc_bc_gev_loc:.3f}') \n",
    "print(f'multiplicative corrected scale parameter: {model_mulc_bc_gev_scale:.3f}')"
   ]
  },
  {
   "cell_type": "markdown",
   "id": "1a8210c0",
   "metadata": {
    "papermill": {
     "duration": null,
     "end_time": null,
     "exception": null,
     "start_time": null,
     "status": "pending"
    },
    "tags": []
   },
   "source": [
    "We can look at p-values for the KS-test and Anderson-Darling test for each lead time.\n",
    "\n",
    "p > 0.05 means the null hypothesis (that the two samples are from the same population) can't be rejected."
   ]
  },
  {
   "cell_type": "code",
   "execution_count": null,
   "id": "a21af1f7",
   "metadata": {
    "papermill": {
     "duration": null,
     "end_time": null,
     "exception": null,
     "start_time": null,
     "status": "pending"
    },
    "tags": []
   },
   "outputs": [],
   "source": [
    "similarity_raw_ds = fileio.open_dataset(similarity_raw_file)"
   ]
  },
  {
   "cell_type": "code",
   "execution_count": null,
   "id": "4e937c26",
   "metadata": {
    "papermill": {
     "duration": null,
     "end_time": null,
     "exception": null,
     "start_time": null,
     "status": "pending"
    },
    "tags": []
   },
   "outputs": [],
   "source": [
    "similarity_raw_ds['ks_statistic'].values"
   ]
  },
  {
   "cell_type": "code",
   "execution_count": null,
   "id": "3a599ddf",
   "metadata": {
    "papermill": {
     "duration": null,
     "end_time": null,
     "exception": null,
     "start_time": null,
     "status": "pending"
    },
    "tags": []
   },
   "outputs": [],
   "source": [
    "similarity_raw_ds['ks_pval'].values"
   ]
  },
  {
   "cell_type": "code",
   "execution_count": null,
   "id": "63c1fcb6",
   "metadata": {
    "papermill": {
     "duration": null,
     "end_time": null,
     "exception": null,
     "start_time": null,
     "status": "pending"
    },
    "tags": []
   },
   "outputs": [],
   "source": [
    "similarity_raw_ds['ad_statistic'].values"
   ]
  },
  {
   "cell_type": "code",
   "execution_count": null,
   "id": "05eb014d",
   "metadata": {
    "papermill": {
     "duration": null,
     "end_time": null,
     "exception": null,
     "start_time": null,
     "status": "pending"
    },
    "tags": []
   },
   "outputs": [],
   "source": [
    "similarity_raw_ds['ad_pval'].values"
   ]
  },
  {
   "cell_type": "code",
   "execution_count": null,
   "id": "e6b89403",
   "metadata": {
    "papermill": {
     "duration": null,
     "end_time": null,
     "exception": null,
     "start_time": null,
     "status": "pending"
    },
    "tags": []
   },
   "outputs": [],
   "source": [
    "Image(filename=moments_raw_plot)"
   ]
  },
  {
   "cell_type": "code",
   "execution_count": null,
   "id": "8b3f7de0",
   "metadata": {
    "papermill": {
     "duration": null,
     "end_time": null,
     "exception": null,
     "start_time": null,
     "status": "pending"
    },
    "tags": []
   },
   "outputs": [],
   "source": [
    "similarity_add_bias_ds = fileio.open_dataset(similarity_add_bc_file)"
   ]
  },
  {
   "cell_type": "code",
   "execution_count": null,
   "id": "f1a4eb0f",
   "metadata": {
    "papermill": {
     "duration": null,
     "end_time": null,
     "exception": null,
     "start_time": null,
     "status": "pending"
    },
    "tags": []
   },
   "outputs": [],
   "source": [
    "similarity_add_bias_ds['ks_statistic'].values"
   ]
  },
  {
   "cell_type": "code",
   "execution_count": null,
   "id": "d388e95d",
   "metadata": {
    "papermill": {
     "duration": null,
     "end_time": null,
     "exception": null,
     "start_time": null,
     "status": "pending"
    },
    "tags": []
   },
   "outputs": [],
   "source": [
    "similarity_add_bias_ds['ks_pval'].values"
   ]
  },
  {
   "cell_type": "code",
   "execution_count": null,
   "id": "bb7f39c3",
   "metadata": {
    "papermill": {
     "duration": null,
     "end_time": null,
     "exception": null,
     "start_time": null,
     "status": "pending"
    },
    "tags": []
   },
   "outputs": [],
   "source": [
    "similarity_add_bias_ds['ad_statistic'].values"
   ]
  },
  {
   "cell_type": "code",
   "execution_count": null,
   "id": "c7cee743",
   "metadata": {
    "papermill": {
     "duration": null,
     "end_time": null,
     "exception": null,
     "start_time": null,
     "status": "pending"
    },
    "tags": []
   },
   "outputs": [],
   "source": [
    "similarity_add_bias_ds['ad_pval'].values"
   ]
  },
  {
   "cell_type": "code",
   "execution_count": null,
   "id": "e8c3009f",
   "metadata": {
    "papermill": {
     "duration": null,
     "end_time": null,
     "exception": null,
     "start_time": null,
     "status": "pending"
    },
    "tags": []
   },
   "outputs": [],
   "source": [
    "Image(filename=moments_add_plot)"
   ]
  },
  {
   "cell_type": "code",
   "execution_count": null,
   "id": "e52d7e00-1510-46bc-ba47-ca75c162b03c",
   "metadata": {
    "papermill": {
     "duration": null,
     "end_time": null,
     "exception": null,
     "start_time": null,
     "status": "pending"
    },
    "tags": []
   },
   "outputs": [],
   "source": [
    "similarity_mulc_bias_ds = fileio.open_dataset(similarity_mulc_bc_file)"
   ]
  },
  {
   "cell_type": "code",
   "execution_count": null,
   "id": "4a8a6348",
   "metadata": {
    "papermill": {
     "duration": null,
     "end_time": null,
     "exception": null,
     "start_time": null,
     "status": "pending"
    },
    "tags": []
   },
   "outputs": [],
   "source": [
    "similarity_mulc_bias_ds['ks_statistic'].values"
   ]
  },
  {
   "cell_type": "code",
   "execution_count": null,
   "id": "0de30b63-1886-4ed8-9307-dabf49c5d484",
   "metadata": {
    "papermill": {
     "duration": null,
     "end_time": null,
     "exception": null,
     "start_time": null,
     "status": "pending"
    },
    "tags": []
   },
   "outputs": [],
   "source": [
    "similarity_mulc_bias_ds['ks_pval'].values"
   ]
  },
  {
   "cell_type": "code",
   "execution_count": null,
   "id": "77233634",
   "metadata": {
    "papermill": {
     "duration": null,
     "end_time": null,
     "exception": null,
     "start_time": null,
     "status": "pending"
    },
    "tags": []
   },
   "outputs": [],
   "source": [
    "similarity_mulc_bias_ds['ad_statistic'].values"
   ]
  },
  {
   "cell_type": "code",
   "execution_count": null,
   "id": "666ff4e6-2437-42ab-87d3-59231280b122",
   "metadata": {
    "papermill": {
     "duration": null,
     "end_time": null,
     "exception": null,
     "start_time": null,
     "status": "pending"
    },
    "tags": []
   },
   "outputs": [],
   "source": [
    "similarity_mulc_bias_ds['ad_pval'].values"
   ]
  },
  {
   "cell_type": "code",
   "execution_count": null,
   "id": "0ea34514",
   "metadata": {
    "papermill": {
     "duration": null,
     "end_time": null,
     "exception": null,
     "start_time": null,
     "status": "pending"
    },
    "tags": []
   },
   "outputs": [],
   "source": [
    "Image(filename=moments_mulc_plot)"
   ]
  },
  {
   "cell_type": "markdown",
   "id": "692c7b58",
   "metadata": {
    "papermill": {
     "duration": null,
     "end_time": null,
     "exception": null,
     "start_time": null,
     "status": "pending"
    },
    "tags": []
   },
   "source": [
    "### Return curves"
   ]
  },
  {
   "cell_type": "code",
   "execution_count": null,
   "id": "ff0f8f73",
   "metadata": {
    "papermill": {
     "duration": null,
     "end_time": null,
     "exception": null,
     "start_time": null,
     "status": "pending"
    },
    "tags": []
   },
   "outputs": [],
   "source": [
    "def gev_event_likelihood(event, shape, loc, scale):\n",
    "    \"\"\"Get likelihood stats for an event from a GEV fit\"\"\"\n",
    "\n",
    "    probability = gev.sf(event, shape, loc=loc, scale=scale)\n",
    "    return_period = 1. / probability\n",
    "    percentile = (1 - probability) * 100\n",
    "    print(f'{percentile:.2f}% percentile')\n",
    "    print(f'{return_period:.0f} year return period\\n')"
   ]
  },
  {
   "cell_type": "markdown",
   "id": "d6a40828",
   "metadata": {
    "papermill": {
     "duration": null,
     "end_time": null,
     "exception": null,
     "start_time": null,
     "status": "pending"
    },
    "tags": []
   },
   "source": [
    "#### Additive bias corrected data"
   ]
  },
  {
   "cell_type": "code",
   "execution_count": null,
   "id": "39e4acf0",
   "metadata": {
    "papermill": {
     "duration": null,
     "end_time": null,
     "exception": null,
     "start_time": null,
     "status": "pending"
    },
    "tags": []
   },
   "outputs": [],
   "source": [
    "n_events_add_bc, n_population_add_bc, return_period_add_bc, percentile_add_bc = eva.event_in_context(\n",
    "    model_add_bc_da_stacked.values,\n",
    "    obs_max_event,\n",
    "    'above',\n",
    ")\n",
    "print('ADDITIVE BIAS CORRECTED DATA')\n",
    "print(f'{n_events_add_bc} events in {n_population_add_bc} samples')\n",
    "print(f'{percentile_add_bc:.2f}% percentile')\n",
    "print(f'{return_period_add_bc:.0f} year return period')"
   ]
  },
  {
   "cell_type": "code",
   "execution_count": null,
   "id": "2e0a064d",
   "metadata": {
    "papermill": {
     "duration": null,
     "end_time": null,
     "exception": null,
     "start_time": null,
     "status": "pending"
    },
    "tags": []
   },
   "outputs": [],
   "source": [
    "print('ADDITIVE BIAS CORRECTED GEV')\n",
    "gev_event_likelihood(obs_max_event, model_add_bc_gev_shape, model_add_bc_gev_loc, model_add_bc_gev_scale)"
   ]
  },
  {
   "cell_type": "markdown",
   "id": "378e3988-31c5-4312-96ef-72d7820ef8e4",
   "metadata": {
    "papermill": {
     "duration": null,
     "end_time": null,
     "exception": null,
     "start_time": null,
     "status": "pending"
    },
    "tags": []
   },
   "source": [
    "#### Multiplicative bias corrected data"
   ]
  },
  {
   "cell_type": "code",
   "execution_count": null,
   "id": "17d6421d-1097-4775-a8da-1072eae0e792",
   "metadata": {
    "papermill": {
     "duration": null,
     "end_time": null,
     "exception": null,
     "start_time": null,
     "status": "pending"
    },
    "tags": []
   },
   "outputs": [],
   "source": [
    "fig = plt.figure(figsize=[8, 6])\n",
    "ax = fig.add_subplot()\n",
    "eva.plot_gev_return_curve(\n",
    "    ax,\n",
    "    model_mulc_bc_da_stacked,\n",
    "    obs_max_event,\n",
    "    bootstrap_method='non-parametric',\n",
    "    n_bootstraps=1000,\n",
    "    ylabel=metric_plot_label,\n",
    "    ylim=[50, metric_plot_upper_limit],\n",
    "    text=True,\n",
    ")\n",
    "#outfile = f'/g/data/xv83/unseen-projects/outputs/tc-jasper/figures/{metric}_return-curve_{model_name}_{region_name}.png'\n",
    "#print(outfile)\n",
    "#plt.savefig(outfile, bbox_inches='tight', facecolor='white', dpi=dpi)\n",
    "plt.show()"
   ]
  },
  {
   "cell_type": "code",
   "execution_count": null,
   "id": "e0175a01-4152-4ff2-b197-f00c153e1389",
   "metadata": {
    "papermill": {
     "duration": null,
     "end_time": null,
     "exception": null,
     "start_time": null,
     "status": "pending"
    },
    "tags": []
   },
   "outputs": [],
   "source": [
    "n_events_mulc_bc, n_population_mulc_bc, return_period_mulc_bc, percentile_mulc_bc = eva.event_in_context(model_add_bc_da_stacked.values, obs_max_event, 'above')\n",
    "print('MULTIPLICATIVE BIAS CORRECTED DATA')\n",
    "print(f'{n_events_mulc_bc} events in {n_population_mulc_bc} samples')\n",
    "print(f'{percentile_mulc_bc:.2f}% percentile')\n",
    "print(f'{return_period_mulc_bc:.0f} year return period')"
   ]
  },
  {
   "cell_type": "code",
   "execution_count": null,
   "id": "bd2f4347-4051-45a1-be36-e1a69617439a",
   "metadata": {
    "papermill": {
     "duration": null,
     "end_time": null,
     "exception": null,
     "start_time": null,
     "status": "pending"
    },
    "tags": []
   },
   "outputs": [],
   "source": [
    "print('MULTIPLICATIVE BIAS CORRECTED GEV')\n",
    "gev_event_likelihood(obs_max_event, model_mulc_bc_gev_shape, model_mulc_bc_gev_loc, model_mulc_bc_gev_scale)"
   ]
  },
  {
   "cell_type": "markdown",
   "id": "c6a2c14c",
   "metadata": {
    "papermill": {
     "duration": null,
     "end_time": null,
     "exception": null,
     "start_time": null,
     "status": "pending"
    },
    "tags": []
   },
   "source": [
    "#### Raw data"
   ]
  },
  {
   "cell_type": "code",
   "execution_count": null,
   "id": "89138fa6",
   "metadata": {
    "papermill": {
     "duration": null,
     "end_time": null,
     "exception": null,
     "start_time": null,
     "status": "pending"
    },
    "tags": []
   },
   "outputs": [],
   "source": [
    "n_events, n_population, return_period, percentile = eva.event_in_context(model_da_stacked.values, obs_max_event, 'above')\n",
    "print('RAW DATA')\n",
    "print(f'{n_events} events in {n_population} samples')\n",
    "print(f'{percentile:.2f}% percentile')\n",
    "print(f'{return_period:.0f} year return period')"
   ]
  },
  {
   "cell_type": "code",
   "execution_count": null,
   "id": "55ca0308",
   "metadata": {
    "papermill": {
     "duration": null,
     "end_time": null,
     "exception": null,
     "start_time": null,
     "status": "pending"
    },
    "tags": []
   },
   "outputs": [],
   "source": [
    "print('RAW GEV')\n",
    "gev_event_likelihood(obs_max_event, model_gev_shape, model_gev_loc, model_gev_scale)"
   ]
  },
  {
   "cell_type": "markdown",
   "id": "8bcb7462",
   "metadata": {
    "papermill": {
     "duration": null,
     "end_time": null,
     "exception": null,
     "start_time": null,
     "status": "pending"
    },
    "tags": []
   },
   "source": [
    "### Seasonality"
   ]
  },
  {
   "cell_type": "code",
   "execution_count": null,
   "id": "8e28f48c",
   "metadata": {
    "papermill": {
     "duration": null,
     "end_time": null,
     "exception": null,
     "start_time": null,
     "status": "pending"
    },
    "tags": []
   },
   "outputs": [],
   "source": [
    "model_df = model_da_stacked.to_dataframe()\n",
    "model_df = model_df.dropna()"
   ]
  },
  {
   "cell_type": "code",
   "execution_count": null,
   "id": "c1a16c7e",
   "metadata": {
    "papermill": {
     "duration": null,
     "end_time": null,
     "exception": null,
     "start_time": null,
     "status": "pending"
    },
    "tags": []
   },
   "outputs": [],
   "source": [
    "event_months = [int(date[5:7]) for date in model_df['event_time'].values]\n",
    "event_years = [int(date[0:4]) for date in model_df['event_time'].values]"
   ]
  },
  {
   "cell_type": "code",
   "execution_count": null,
   "id": "a8d46fba",
   "metadata": {
    "papermill": {
     "duration": null,
     "end_time": null,
     "exception": null,
     "start_time": null,
     "status": "pending"
    },
    "tags": []
   },
   "outputs": [],
   "source": [
    "month_counts = Counter(event_months)\n",
    "months = np.arange(1, 13)\n",
    "counts = [month_counts[month] for month in months]\n",
    "\n",
    "plt.bar(months, counts)\n",
    "plt.title(f'{metric} timing for {region_name} ({model_name})')\n",
    "plt.ylabel('number of events')\n",
    "plt.xlabel('month')\n",
    "xlabels = [calendar.month_abbr[i] for i in months]\n",
    "plt.xticks(months, xlabels)\n",
    "#outfile = f'/g/data/xv83/unseen-projects/outputs/tc-jasper/figures/{metric}_timing_{model_name}_{region_name}.png'\n",
    "#print(outfile)\n",
    "#plt.savefig(outfile, bbox_inches='tight', facecolor='white', dpi=dpi)\n",
    "plt.show()"
   ]
  },
  {
   "cell_type": "markdown",
   "id": "d9405e65",
   "metadata": {
    "papermill": {
     "duration": null,
     "end_time": null,
     "exception": null,
     "start_time": null,
     "status": "pending"
    },
    "tags": []
   },
   "source": [
    "### Meteorology"
   ]
  },
  {
   "cell_type": "code",
   "execution_count": null,
   "id": "9ed38598",
   "metadata": {
    "papermill": {
     "duration": null,
     "end_time": null,
     "exception": null,
     "start_time": null,
     "status": "pending"
    },
    "tags": []
   },
   "outputs": [],
   "source": [
    "def plot_average(start_date, end_date, color_da=None, color_var=None, contour_da=None, contour_var=None):\n",
    "    \"\"\"Plot average\"\"\"\n",
    "    \n",
    "    fig = plt.figure(figsize=[10, 5])\n",
    "    map_proj=ccrs.PlateCarree(central_longitude=180)\n",
    "    ax1 = fig.add_subplot(1, 1, 1, projection=map_proj)       \n",
    "    \n",
    "    if color_var:\n",
    "        if color_var == 'pr':\n",
    "            levels = [0, 100, 200, 300, 400, 500, 600, 700, 800]\n",
    "            label = 'total precipitation (mm)'\n",
    "            cmap = cmocean.cm.rain\n",
    "            extend = 'max'\n",
    "        elif color_var == 'ua300':\n",
    "            levels = [-30, -25, -20, -15, -10, -5, 0, 5, 10, 15, 20, 25, 30]\n",
    "            label = '300hPa zonal wind'\n",
    "            cmap='RdBu_r'\n",
    "            extend = 'both'\n",
    "        else:\n",
    "            raise ValueError('Invalid color variable')\n",
    "        color_da.plot(\n",
    "            ax=ax1,\n",
    "            transform=ccrs.PlateCarree(),\n",
    "            cmap=cmap,\n",
    "            levels=levels,\n",
    "            extend=extend,\n",
    "            cbar_kwargs={'label': label},\n",
    "        )\n",
    "    \n",
    "    if contour_var:\n",
    "        if contour_var == 'z500':\n",
    "            levels = np.arange(5000, 6300, 50)\n",
    "        elif contour_var == 'psl':\n",
    "            levels = np.arange(900, 1100, 2.5)\n",
    "        elif contour_var == 'ua300':\n",
    "            levels = np.arange(15, 60, 5)\n",
    "        else:\n",
    "            raise ValueError('Invalid contour variable')\n",
    "        lines = contour_da.plot.contour(\n",
    "            ax=ax1,\n",
    "            transform=ccrs.PlateCarree(),\n",
    "            levels=levels,\n",
    "            colors=['0.1']\n",
    "        )\n",
    "        ax1.clabel(lines, colors=['0.1'], manual=False, inline=True)\n",
    "    \n",
    "    ax1.coastlines()\n",
    "    ax1.set_extent([90, 205, -55, 10], crs=ccrs.PlateCarree())\n",
    "    ax1.gridlines(linestyle='--', draw_labels=True)\n",
    "    if contour_var:\n",
    "        ax1.set_title(f'Average {contour_var} ({contour_da.units}), {start_date} to {end_date}')\n",
    "    else:\n",
    "        ax1.set_title(f'{start_date} to {end_date}')\n",
    "#    plt.savefig(\n",
    "#        f'/home/599/dbi599/east-coast-rain/{color_var}-{contour_var}_mean_BARRA2_{start_date}_{end_date}.png',\n",
    "#        bbox_inches='tight',\n",
    "#        facecolor='white',\n",
    "#        dpi=300\n",
    "#    )\n",
    "    plt.show()"
   ]
  },
  {
   "cell_type": "code",
   "execution_count": null,
   "id": "ac05f6f2",
   "metadata": {
    "papermill": {
     "duration": null,
     "end_time": null,
     "exception": null,
     "start_time": null,
     "status": "pending"
    },
    "tags": []
   },
   "outputs": [],
   "source": [
    "ranked_events = model_df.sort_values(by=['pr'], ascending=False)\n",
    "ranked_events.head(n=10)"
   ]
  },
  {
   "cell_type": "code",
   "execution_count": null,
   "id": "aaa93741",
   "metadata": {
    "papermill": {
     "duration": null,
     "end_time": null,
     "exception": null,
     "start_time": null,
     "status": "pending"
    },
    "tags": []
   },
   "outputs": [],
   "source": [
    "model_add_bc_df = model_add_bc_ds['pr'].to_dataframe()\n",
    "model_add_bc_df = model_add_bc_df.dropna()\n",
    "model_add_bc_df = model_add_bc_df.reset_index()\n",
    "ranked_add_bc_events = model_add_bc_df.sort_values(by=['pr'], ascending=False)\n",
    "ranked_add_bc_events.head(n=10)"
   ]
  },
  {
   "cell_type": "code",
   "execution_count": null,
   "id": "4fe3506d-7703-4271-960f-1cc7b3f7aa19",
   "metadata": {
    "papermill": {
     "duration": null,
     "end_time": null,
     "exception": null,
     "start_time": null,
     "status": "pending"
    },
    "tags": []
   },
   "outputs": [],
   "source": [
    "model_mulc_bc_df = model_mulc_bc_ds['pr'].to_dataframe()\n",
    "model_mulc_bc_df = model_mulc_bc_df.dropna()\n",
    "model_mulc_bc_df = model_mulc_bc_df.reset_index()\n",
    "ranked_mulc_bc_events = model_mulc_bc_df.sort_values(by=['pr'], ascending=False)\n",
    "ranked_mulc_bc_events.head(n=10)"
   ]
  },
  {
   "cell_type": "code",
   "execution_count": null,
   "id": "29d990f5",
   "metadata": {
    "papermill": {
     "duration": null,
     "end_time": null,
     "exception": null,
     "start_time": null,
     "status": "pending"
    },
    "tags": []
   },
   "outputs": [],
   "source": [
    "def get_dcpp_member(ensemble, model_name):\n",
    "    \"\"\"Get the DCPP member information (e.g. r1i1p1f1)\"\"\"\n",
    "    \n",
    "    r = ensemble\n",
    "    i = 1\n",
    "    p = 1\n",
    "    f = 1\n",
    "    if model_name == 'CanESM5':\n",
    "        p = 2\n",
    "    elif model_name == 'EC-Earth3':\n",
    "        if ensemble > 10:\n",
    "            r = ensemble - 5\n",
    "            i = 2\n",
    "    elif model_name == 'HadGEM3-GC31-MM':\n",
    "        f = 2\n",
    "    elif model_name == 'NorCPM1':\n",
    "        if ensemble > 10:\n",
    "            r = ensemble - 10\n",
    "            i = 2\n",
    "\n",
    "    member = f'r{r}i{i}p{p}f{f}'\n",
    "    \n",
    "    return member\n",
    "\n",
    "    \n",
    "def plot_dcpp_meteorology(ranked_events, model_name):\n",
    "    \"\"\"Meteorology plot for DCPP data\"\"\"\n",
    "\n",
    "    for index, row in ranked_events.head(n=4).iterrows():\n",
    "        init_date = int(row['init_date'].strftime('%Y'))\n",
    "        if model_name in ['CanESM5', 'IPSL-CM6A-LR']:\n",
    "            init_date = init_date - 1\n",
    "        ensemble = int(row['ensemble']) + 1\n",
    "        member = get_dcpp_member(ensemble, model_name)\n",
    "        end_date = row['event_time']\n",
    "        rx_value = row['pr']\n",
    "        print(f'{init_date} ({end_date}), member: {member}, {rx_value}mm')\n",
    "\n",
    "        start_datetime = datetime.datetime.strptime(end_date, \"%Y-%m-%d\") - datetime.timedelta(days=14)\n",
    "        start_date = start_datetime.strftime(\"%Y-%m-%d\")\n",
    "\n",
    "        pr_files = glob.glob(f'/g/data/oi10/replicas/CMIP6/DCPP/*/{model_name}/dcppA-hindcast/s{init_date}-{member}/day/pr/*/*/*.nc')\n",
    "        pr_files.sort()\n",
    "        if pr_files:\n",
    "            ds_pr = fileio.open_dataset(pr_files, variables=['pr'],)\n",
    "            pr_da = ds_pr.sel({'time': slice(start_date, end_date)})['pr']\n",
    "            pr_da = xc.units.convert_units_to(pr_da, 'mm d-1')\n",
    "            pr_da_sum = pr_da.sum('time', keep_attrs=True)\n",
    "\n",
    "        psl_files = glob.glob(f'/g/data/oi10/replicas/CMIP6/DCPP/*/{model_name}/dcppA-hindcast/s{init_date}-{member}/day/psl/*/*/*.nc')\n",
    "        psl_files.sort()\n",
    "        if psl_files:\n",
    "            ds_psl = fileio.open_dataset(psl_files, variables=['psl'],)\n",
    "            psl_da = ds_psl.sel({'time': slice(start_date, end_date)})['psl']\n",
    "            psl_da = xc.units.convert_units_to(psl_da, 'hPa')\n",
    "            psl_da_mean = psl_da.mean('time', keep_attrs=True)\n",
    "\n",
    "        zg_files = glob.glob(f'/g/data/oi10/replicas/CMIP6/DCPP/*/{model_name}/dcppA-hindcast/s{init_date}-{member}/day/zg/*/*/*.nc')\n",
    "        zg_files.sort()\n",
    "        if zg_files:\n",
    "            ds_zg = fileio.open_dataset(zg_files, variables=['zg'],)\n",
    "            zg_da = ds_zg.sel({'time': slice(start_date, end_date)})['zg']\n",
    "            z500_da = zg_da.sel({'plev': 50000}, method='nearest')\n",
    "            z500_da_mean = z500_da.mean('time', keep_attrs=True)\n",
    "\n",
    "        ua_files = glob.glob(f'/g/data/oi10/replicas/CMIP6/DCPP/*/{model_name}/dcppA-hindcast/s{init_date}-{member}/day/ua/*/*/*.nc')\n",
    "        ua_files.sort()\n",
    "        if ua_files:\n",
    "            ds_ua = fileio.open_dataset(ua_files, variables=['ua'],)\n",
    "            ua_da = ds_ua.sel({'time': slice(start_date, end_date)})['ua']\n",
    "            ua300_da = ua_da.sel({'plev': 30000}, method='nearest')\n",
    "            ua300_da_mean = ua300_da.mean('time', keep_attrs=True) \n",
    "\n",
    "        if pr_files and psl_files:\n",
    "            plot_average(start_date, end_date, pr_da_sum, 'pr', psl_da_mean, 'psl')\n",
    "        if pr_files and zg_files:\n",
    "            plot_average(start_date, end_date, pr_da_sum, 'pr', z500_da_mean, 'z500')\n",
    "        if ua_files and zg_files:\n",
    "            plot_average(start_date, end_date, ua300_da_mean, 'ua300', z500_da_mean, 'z500')"
   ]
  },
  {
   "cell_type": "code",
   "execution_count": null,
   "id": "677c7d4f",
   "metadata": {
    "papermill": {
     "duration": null,
     "end_time": null,
     "exception": null,
     "start_time": null,
     "status": "pending"
    },
    "tags": []
   },
   "outputs": [],
   "source": [
    "def plot_cafe_meteorology(ranked_events):\n",
    "    \"\"\"Meteorology plot for DCPP data\"\"\"\n",
    "    \n",
    "    for index, row in ranked_events.head(n=4).iterrows():\n",
    "        init_date = row['init_date'].strftime('%Y%m%d')\n",
    "        ensemble = row['ensemble']\n",
    "        end_date = row['event_time']\n",
    "        rx_value = row['pr']\n",
    "        print(f'{init_date} ({end_date}), ensemble:{ensemble}, {rx_value}mm')\n",
    "\n",
    "        atmos_file = f'/g/data/xv83/dcfp/CAFE-f6/c5-d60-pX-f6-{init_date}/atmos_isobaric_daily.zarr.zip'\n",
    "        atmos_ds = fileio.open_dataset(\n",
    "            atmos_file,\n",
    "            metadata_file='/g/data/xv83/unseen-projects/code/dataset_config/dataset_cafe_daily.yml',\n",
    "            variables=['h500', 'slp', 'pr', 'ucomp'],\n",
    "        )\n",
    "        start_datetime = datetime.datetime.strptime(end_date, \"%Y-%m-%d\") - datetime.timedelta(days=14)\n",
    "        start_date = start_datetime.strftime(\"%Y-%m-%d\")\n",
    "        z500_da = atmos_ds.sel({'ensemble': ensemble, 'time': slice(start_date, end_date)})['h500']\n",
    "        pr_da = atmos_ds.sel({'ensemble': ensemble, 'time': slice(start_date, end_date)})['pr']\n",
    "        pr_da = general_utils.convert_units(pr_da, 'mm d-1')\n",
    "        psl_da = atmos_ds.sel({'ensemble': ensemble, 'time': slice(start_date, end_date)})['slp']\n",
    "        ua300_da = atmos_ds.sel({'ensemble': ensemble, 'level': 300, 'time': slice(start_date, end_date)})['ucomp']\n",
    "\n",
    "        z500_da_mean = z500_da.mean('time', keep_attrs=True)\n",
    "        pr_da_sum = pr_da.sum('time', keep_attrs=True)\n",
    "        psl_da_mean = psl_da.mean('time', keep_attrs=True)\n",
    "        ua300_da_mean = ua300_da.mean('time', keep_attrs=True) \n",
    "\n",
    "        plot_average(start_date, end_date, pr_da_sum, 'pr', z500_da_mean, 'z500')\n",
    "        plot_average(start_date, end_date, pr_da_sum, 'pr', psl_da_mean, 'psl')\n",
    "        plot_average(start_date, end_date, ua300_da_mean, 'ua300', z500_da_mean, 'z500')"
   ]
  },
  {
   "cell_type": "code",
   "execution_count": null,
   "id": "0d1d2b07",
   "metadata": {
    "papermill": {
     "duration": null,
     "end_time": null,
     "exception": null,
     "start_time": null,
     "status": "pending"
    },
    "tags": []
   },
   "outputs": [],
   "source": [
    "if model_name == 'CAFE':\n",
    "    plot_cafe_meteorology(ranked_events)\n",
    "else:\n",
    "    plot_dcpp_meteorology(ranked_events, model_name)"
   ]
  }
 ],
 "metadata": {
  "celltoolbar": "Tags",
  "kernelspec": {
   "display_name": "Python 3 (ipykernel)",
   "language": "python",
   "name": "python3"
  },
  "language_info": {
   "codemirror_mode": {
    "name": "ipython",
    "version": 3
   },
   "file_extension": ".py",
   "mimetype": "text/x-python",
   "name": "python",
   "nbconvert_exporter": "python",
   "pygments_lexer": "ipython3",
   "version": "3.10.9"
  },
  "papermill": {
   "default_parameters": {},
   "duration": 37.262008,
   "end_time": "2024-03-14T02:09:00.629213",
   "environment_variables": {},
   "exception": true,
   "input_path": "analysis.ipynb",
   "output_path": "analysis_MRI-ESM2-0.ipynb",
   "parameters": {
    "file_list": "/g/data/xv83/unseen-projects/code/file_lists/MRI-ESM2-0_dcppA-hindcast_pr_files.txt",
    "independence_plot": "/g/data/xv83/unseen-projects/outputs/tc-jasper/figures/independence-test_rx5day_MRI-ESM2-0-dcppA-hindcast_196011-201911_annual-aug-to-sep_daintree-river.png",
    "metric": "rx5day",
    "metric_plot_label": "rx5day (mm)",
    "metric_plot_upper_limit": 1500,
    "min_lead": 0,
    "model_add_bc_file": "/g/data/xv83/unseen-projects/outputs/tc-jasper/data/rx5day_MRI-ESM2-0-dcppA-hindcast_196011-201911_annual-aug-to-sep_daintree-river_bias-corrected-AGCD-CSIRO-additive.nc",
    "model_file": "/g/data/xv83/unseen-projects/outputs/tc-jasper/data/rx5day_MRI-ESM2-0-dcppA-hindcast_196011-201911_annual-aug-to-sep_daintree-river.nc",
    "model_mulc_bc_file": "/g/data/xv83/unseen-projects/outputs/tc-jasper/data/rx5day_MRI-ESM2-0-dcppA-hindcast_196011-201911_annual-aug-to-sep_daintree-river_bias-corrected-AGCD-CSIRO-multiplicative.nc",
    "model_name": "MRI-ESM2-0",
    "moments_add_plot": "/g/data/xv83/unseen-projects/outputs/tc-jasper/figures/moments-test_rx5day_MRI-ESM2-0-dcppA-hindcast_196011-201911_annual-aug-to-sep_daintree-river_bias-corrected-AGCD-CSIRO-additive.png",
    "moments_mulc_plot": "/g/data/xv83/unseen-projects/outputs/tc-jasper/figures/moments-test_rx5day_MRI-ESM2-0-dcppA-hindcast_196011-201911_annual-aug-to-sep_daintree-river_bias-corrected-AGCD-CSIRO-multiplicative.png",
    "moments_raw_plot": "/g/data/xv83/unseen-projects/outputs/tc-jasper/figures/moments-test_rx5day_MRI-ESM2-0-dcppA-hindcast_196011-201911_annual-aug-to-sep_daintree-river_AGCD-CSIRO.png",
    "obs_file": "/g/data/xv83/unseen-projects/outputs/tc-jasper/data/rx5day_AGCD-CSIRO_1901-2024_annual-aug-to-sep_daintree-river.nc",
    "region_name": "daintree-river",
    "shape_file": "/g/data/xv83/unseen-projects/outputs/tc-jasper/shapefiles/daintree_river.shp",
    "shape_overlap": 0.001,
    "similarity_add_bc_file": "/g/data/xv83/unseen-projects/outputs/tc-jasper/data/similarity-test_rx5day_MRI-ESM2-0-dcppA-hindcast_196011-201911_annual-aug-to-sep_daintree-river_bias-corrected-AGCD-CSIRO-additive.nc",
    "similarity_mulc_bc_file": "/g/data/xv83/unseen-projects/outputs/tc-jasper/data/similarity-test_rx5day_MRI-ESM2-0-dcppA-hindcast_196011-201911_annual-aug-to-sep_daintree-river_bias-corrected-AGCD-CSIRO-multiplicative.nc",
    "similarity_raw_file": "/g/data/xv83/unseen-projects/outputs/tc-jasper/data/similarity-test_rx5day_MRI-ESM2-0-dcppA-hindcast_196011-201911_annual-aug-to-sep_daintree-river_AGCD-CSIRO.nc",
    "stability_plot_empirical": "/g/data/xv83/unseen-projects/outputs/tc-jasper/figures/stability-test-empirical_rx5day_MRI-ESM2-0-dcppA-hindcast_196011-201911_annual-aug-to-sep_daintree-river.png",
    "stability_plot_gev": "/g/data/xv83/unseen-projects/outputs/tc-jasper/figures/stability-test-gev_rx5day_MRI-ESM2-0-dcppA-hindcast_196011-201911_annual-aug-to-sep_daintree-river.png",
    "var": "pr"
   },
   "start_time": "2024-03-14T02:08:23.367205",
   "version": "2.3.3"
  }
 },
 "nbformat": 4,
 "nbformat_minor": 5
}