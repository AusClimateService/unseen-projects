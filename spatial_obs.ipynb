{
 "cells": [
  {
   "cell_type": "markdown",
   "id": "4d047299",
   "metadata": {
    "papermill": {
     "duration": 0.027065,
     "end_time": "2023-03-06T02:49:49.549053",
     "exception": false,
     "start_time": "2023-03-06T02:49:49.521988",
     "status": "completed"
    },
    "tags": []
   },
   "source": [
    "# Observational spatial analysis\n"
   ]
  },
  {
   "cell_type": "code",
   "execution_count": null,
   "id": "95569a41",
   "metadata": {
    "papermill": {
     "duration": 9.54623,
     "end_time": "2023-03-06T02:49:59.109857",
     "exception": false,
     "start_time": "2023-03-06T02:49:49.563627",
     "status": "completed"
    },
    "tags": []
   },
   "outputs": [],
   "source": [
    "%load_ext autoreload\n",
    "%autoreload 2\n",
    "\n",
    "import numpy as np\n",
    "import os\n",
    "import xarray as xr\n",
    "\n",
    "from unseen import fileio, time_utils, eva\n",
    "from acs_plotting_maps import cmap_dict, tick_dict  # NOQA\n",
    "\n",
    "import spatial_plots"
   ]
  },
  {
   "cell_type": "code",
   "execution_count": null,
   "id": "56e9e0ab",
   "metadata": {
    "papermill": {
     "duration": 0.024169,
     "end_time": "2023-03-06T02:49:59.159559",
     "exception": false,
     "start_time": "2023-03-06T02:49:59.135390",
     "status": "completed"
    },
    "tags": [
     "parameters"
    ]
   },
   "outputs": [],
   "source": [
    "# Optional parameters\n",
    "# (This cell is tagged \"parameters\")\n",
    "dpi = 300\n",
    "shapefile = None\n",
    "shape_overlap = 0.1\n",
    "alpha = 0.05\n",
    "time_dim = \"time\"\n",
    "lat_dim = \"lat\"\n",
    "lon_dim = \"lon\"\n",
    "similarity_test = \"ks\"\n",
    "gev_relative_fit_test = \"bic\"\n",
    "time_agg = \"maximum\""
   ]
  },
  {
   "cell_type": "code",
   "execution_count": null,
   "id": "b9787631",
   "metadata": {
    "papermill": {
     "duration": 0.042552,
     "end_time": "2023-03-06T02:49:59.256849",
     "exception": false,
     "start_time": "2023-03-06T02:49:59.214297",
     "status": "completed"
    },
    "tags": []
   },
   "outputs": [],
   "source": [
    "# Required parameters\n",
    "kwargs = locals()\n",
    "assert \"metric\" in kwargs, \"Must provide a metric name\"\n",
    "assert \"var\" in kwargs, \"Must provide a variable name\"\n",
    "assert \"obs_name\" in kwargs, \"Must provide a name\"\n",
    "\n",
    "if isinstance(reference_time_period, str):\n",
    "    reference_time_period = list(reference_time_period.split(\" \"))\n",
    "\n",
    "assert os.path.isfile(\n",
    "    obs_file\n",
    "), f\"Must provide an observations data file (papermill option -p obs_file [filepath])\"\n",
    "assert os.path.isfile(\n",
    "    gev_params_nonstationary_file\n",
    "), f\"Must provide a nonstationary GEV parameters file (papermill option -p gev_params_nonstationary_file [filepath])\"\n",
    "\n",
    "assert (\n",
    "    \"covariate_base\" in kwargs\n",
    "), \"Must provide a nonstationary GEV covariate base year\"\n",
    "assert (\n",
    "    time_agg in spatial_plots.func_dict\n",
    "), f\"Invalid time aggregation method: {time_agg} (options: {list(spatial_plots.func_dict.keys())})\"\n",
    "\n",
    "# Format parameters passed as strings\n",
    "assert (\n",
    "    \"gev_trend_period\" in kwargs\n",
    "), \"Must provide a GEV trend period (e.g., '[1981, 2010]')\"\n",
    "if isinstance(gev_trend_period, str):\n",
    "    # Convert string to list\n",
    "    gev_trend_period = eval(gev_trend_period)\n",
    "    print(f\"gev_trend_period: {gev_trend_period}\")\n",
    "\n",
    "assert (\n",
    "    \"plot_dict\" in kwargs\n",
    "), \"Must provide spatial plot dictionary of labels, ticks and colormaps\"\n",
    "if isinstance(plot_dict, str):\n",
    "    # Convert string to dictionary and check for required keys\n",
    "    plot_dict = eval(plot_dict)\n",
    "    for key in [\n",
    "        \"metric\",\n",
    "        \"var\",\n",
    "        \"var_name\",\n",
    "        \"units\",\n",
    "        \"units_label\",\n",
    "        \"freq\",\n",
    "        \"obs_name\",\n",
    "        \"cmap\",\n",
    "        \"cmap_anom\",\n",
    "        \"ticks\",\n",
    "        \"ticks_anom\",\n",
    "        \"ticks_param_trend\",\n",
    "    ]:\n",
    "        assert key in plot_dict, f\"Missing key: {key} in plot_dict\""
   ]
  },
  {
   "cell_type": "markdown",
   "id": "1e039e61",
   "metadata": {
    "papermill": {
     "duration": 0.013056,
     "end_time": "2023-03-06T02:50:18.132496",
     "exception": false,
     "start_time": "2023-03-06T02:50:18.119440",
     "status": "completed"
    },
    "tags": []
   },
   "source": [
    "### Open dataset of metric in observational data"
   ]
  },
  {
   "cell_type": "code",
   "execution_count": null,
   "id": "09d1baf5",
   "metadata": {},
   "outputs": [],
   "source": [
    "obs_ds = fileio.open_dataset(obs_file, shapefile=shapefile, shape_overlap=shape_overlap)\n",
    "obs_ds"
   ]
  },
  {
   "cell_type": "code",
   "execution_count": null,
   "id": "bfe78cac",
   "metadata": {},
   "outputs": [],
   "source": [
    "# Select reference time period (defined in metric config file)\n",
    "if reference_time_period is not None:\n",
    "    obs_ds = time_utils.select_time_period(obs_ds, reference_time_period)\n",
    "obs_ds = obs_ds.dropna(\"time\", how=\"all\")\n",
    "obs_ds"
   ]
  },
  {
   "cell_type": "code",
   "execution_count": null,
   "id": "26852e1f",
   "metadata": {},
   "outputs": [],
   "source": [
    "# Convert event time strings to cftime objects\n",
    "event_times = np.vectorize(time_utils.str_to_cftime)(\n",
    "    obs_ds.event_time, obs_ds.time.dt.calendar\n",
    ")\n",
    "obs_ds[\"event_time\"] = (obs_ds.event_time.dims, event_times)\n",
    "obs_ds"
   ]
  },
  {
   "cell_type": "markdown",
   "id": "aa3d6416",
   "metadata": {},
   "source": [
    "## Spatial Maps"
   ]
  },
  {
   "cell_type": "code",
   "execution_count": null,
   "id": "bf650636",
   "metadata": {},
   "outputs": [],
   "source": [
    "# Store plot related variables using the InfoSet class\n",
    "info = spatial_plots.InfoSet(\n",
    "    name=obs_name, fig_dir=fig_dir, file=obs_file, ds=obs_ds, ds_obs=obs_ds, **plot_dict\n",
    ")"
   ]
  },
  {
   "cell_type": "markdown",
   "id": "165a2e53",
   "metadata": {},
   "source": [
    "# Year when max/min event occured"
   ]
  },
  {
   "cell_type": "code",
   "execution_count": null,
   "id": "16fd082e",
   "metadata": {},
   "outputs": [],
   "source": [
    "spatial_plots.plot_event_year(info, obs_ds, time_agg)"
   ]
  },
  {
   "cell_type": "markdown",
   "id": "ac9770e2",
   "metadata": {},
   "source": [
    "## Most common month for max/min event"
   ]
  },
  {
   "cell_type": "code",
   "execution_count": null,
   "id": "454e3d2e",
   "metadata": {},
   "outputs": [],
   "source": [
    "spatial_plots.plot_event_month_mode(info, obs_ds)"
   ]
  },
  {
   "cell_type": "markdown",
   "id": "98d99237",
   "metadata": {},
   "source": [
    "\n",
    "## Map of metric median"
   ]
  },
  {
   "cell_type": "code",
   "execution_count": null,
   "id": "8c4ec4de",
   "metadata": {},
   "outputs": [],
   "source": [
    "spatial_plots.plot_time_agg(info, obs_ds, \"median\")"
   ]
  },
  {
   "cell_type": "markdown",
   "id": "17576f05",
   "metadata": {},
   "source": [
    "# Map of metric maximum or minimum"
   ]
  },
  {
   "cell_type": "code",
   "execution_count": null,
   "id": "0c206d2a",
   "metadata": {},
   "outputs": [],
   "source": [
    "spatial_plots.plot_time_agg(info, obs_ds, time_agg)"
   ]
  },
  {
   "cell_type": "markdown",
   "id": "106d0efb",
   "metadata": {},
   "source": [
    "# GEV analysis"
   ]
  },
  {
   "cell_type": "code",
   "execution_count": null,
   "id": "ad2584af",
   "metadata": {},
   "outputs": [],
   "source": [
    "# Load GEV parameters\n",
    "covariate = obs_ds[time_dim].dt.year\n",
    "times = xr.DataArray(gev_trend_period, dims=\"time\")"
   ]
  },
  {
   "cell_type": "code",
   "execution_count": null,
   "id": "9dd38a46",
   "metadata": {},
   "outputs": [],
   "source": [
    "dparams_ns = fileio.open_dataset(\n",
    "    gev_params_nonstationary_file, shapefile=shapefile, shape_overlap=shape_overlap\n",
    ")[var]\n",
    "\n",
    "dparams_ns"
   ]
  },
  {
   "cell_type": "markdown",
   "id": "9121da25",
   "metadata": {},
   "source": [
    "# GEV parameters"
   ]
  },
  {
   "cell_type": "code",
   "execution_count": null,
   "id": "60193265",
   "metadata": {},
   "outputs": [],
   "source": [
    "eva.spatial_plot_gev_parameters(\n",
    "    dparams_ns,\n",
    "    dataset_name=obs_name,\n",
    "    outfile=f\"{info.fig_dir}/gev_parameters_{info.filestem()}.png\",\n",
    ")"
   ]
  },
  {
   "cell_type": "code",
   "execution_count": null,
   "id": "f61f23ac",
   "metadata": {},
   "outputs": [],
   "source": [
    "spatial_plots.plot_gev_param_trend(info, dparams_ns, param=\"location\")"
   ]
  },
  {
   "cell_type": "code",
   "execution_count": null,
   "id": "f48bf62e",
   "metadata": {},
   "outputs": [],
   "source": [
    "spatial_plots.plot_gev_param_trend(info, dparams_ns, param=\"scale\")"
   ]
  },
  {
   "cell_type": "markdown",
   "id": "94be63cd",
   "metadata": {},
   "source": [
    "## Annual reccurence of observed max/min event"
   ]
  },
  {
   "cell_type": "code",
   "execution_count": null,
   "id": "8766d372",
   "metadata": {},
   "outputs": [],
   "source": [
    "spatial_plots.plot_obs_ari(\n",
    "    info,\n",
    "    obs_ds,\n",
    "    None,\n",
    "    dparams_ns,\n",
    "    covariate=covariate_base,\n",
    "    time_agg=time_agg,\n",
    ")"
   ]
  },
  {
   "cell_type": "markdown",
   "id": "17ea70af",
   "metadata": {},
   "source": [
    "## GEV parameter trends"
   ]
  },
  {
   "cell_type": "code",
   "execution_count": null,
   "id": "352a067b",
   "metadata": {},
   "outputs": [],
   "source": [
    "spatial_plots.plot_gev_param_trend(info, obs_ds, dparams_ns, param=\"location\")"
   ]
  },
  {
   "cell_type": "code",
   "execution_count": null,
   "id": "067deb53",
   "metadata": {},
   "outputs": [],
   "source": [
    "spatial_plots.plot_gev_param_trend(info, obs_ds, dparams_ns, param=\"scale\")"
   ]
  },
  {
   "cell_type": "markdown",
   "id": "bbfb04db",
   "metadata": {},
   "source": [
    "## Annual exceedance probability \n",
    "### GEV-based exceedance probability"
   ]
  },
  {
   "cell_type": "code",
   "execution_count": null,
   "id": "2b9cbe60",
   "metadata": {},
   "outputs": [],
   "source": [
    "for aep in aep_list:\n",
    "    spatial_plots.plot_map_aep(\n",
    "        info,\n",
    "        obs_ds,\n",
    "        dparams_ns,\n",
    "        times,\n",
    "        aep=aep,\n",
    "    )"
   ]
  },
  {
   "cell_type": "markdown",
   "id": "7efefd9b",
   "metadata": {},
   "source": [
    "## Probability of breaking the observed record"
   ]
  },
  {
   "cell_type": "code",
   "execution_count": null,
   "id": "5802dbf5",
   "metadata": {},
   "outputs": [],
   "source": [
    "spatial_plots.plot_new_record_probability(\n",
    "    info,\n",
    "    obs_ds,\n",
    "    dparams_ns,\n",
    "    covariate_base,\n",
    "    time_agg,\n",
    "    ari=10,\n",
    ")"
   ]
  }
 ],
 "metadata": {
  "celltoolbar": "Tags",
  "kernelspec": {
   "display_name": "unseen",
   "language": "python",
   "name": "python3"
  },
  "language_info": {
   "codemirror_mode": {
    "name": "ipython",
    "version": 3
   },
   "file_extension": ".py",
   "mimetype": "text/x-python",
   "name": "python",
   "nbconvert_exporter": "python",
   "pygments_lexer": "ipython3",
   "version": "3.11.9"
  },
  "papermill": {
   "default_parameters": {},
   "duration": 208.255213,
   "end_time": "2023-03-06T02:53:13.009470",
   "environment_variables": {},
   "exception": true,
   "input_path": "analysis.ipynb",
   "output_path": "analysis_CanESM5.ipynb",
   "parameters": {
    "agcd_file": "/g/data/xv83/dbi599/east-coast-rain/data/Rx15day_AGCD-CSIRO_r005_1900-2022_annual-aug-to-sep_east-coast-flood-region.zarr.zip",
    "file_list": "/home/599/dbi599/east-coast-rain/file_lists/CanESM5_dcppA-hindcast_pr_files.txt",
    "independence_plot": "/g/data/xv83/dbi599/east-coast-rain/figures/independence-test_Rx15day_CanESM5-dcppA-hindcast_196101-201701_annual-aug-to-sep_east-coast-flood-region.png",
    "min_lead": 1,
    "model_add_bc_file": "/g/data/xv83/dbi599/east-coast-rain/data/Rx15day_CanESM5-dcppA-hindcast_196101-201701_annual-aug-to-sep_east-coast-flood-region_bias-corrected-AGCD-CSIRO-additive.zarr.zip",
    "model_file": "/g/data/xv83/dbi599/east-coast-rain/data/Rx15day_CanESM5-dcppA-hindcast_196101-201701_annual-aug-to-sep_east-coast-flood-region.zarr.zip",
    "model_mulc_bc_file": "/g/data/xv83/dbi599/east-coast-rain/data/Rx15day_CanESM5-dcppA-hindcast_196101-201701_annual-aug-to-sep_east-coast-flood-region_bias-corrected-AGCD-CSIRO-multiplicative.zarr.zip",
    "model_name": "CanESM5",
    "nino_file": "/g/data/xv83/dbi599/east-coast-rain/data/nino34-anomaly_CanESM5-dcppA-hindcast_196101-201701_base-196101-201701.nc",
    "region_name": "east-coast-flood-region",
    "shape_file": "/g/data/xv83/dbi599/east-coast-rain/shapefiles/east-coast-flood.shp",
    "similarity_add_bc_file": "/g/data/xv83/dbi599/east-coast-rain/data/similarity-test_Rx15day_CanESM5-dcppA-hindcast_196101-201701_annual-aug-to-sep_east-coast-flood-region_bias-corrected-AGCD-CSIRO-additive.zarr.zip",
    "similarity_mulc_bc_file": "/g/data/xv83/dbi599/east-coast-rain/data/similarity-test_Rx15day_CanESM5-dcppA-hindcast_196101-201701_annual-aug-to-sep_east-coast-flood-region_bias-corrected-AGCD-CSIRO-multiplicative.zarr.zip",
    "similarity_raw_file": "/g/data/xv83/dbi599/east-coast-rain/data/similarity-test_Rx15day_CanESM5-dcppA-hindcast_196101-201701_annual-aug-to-sep_east-coast-flood-region_AGCD-CSIRO.zarr.zip"
   },
   "start_time": "2023-03-06T02:49:44.754257",
   "version": "2.3.3"
  }
 },
 "nbformat": 4,
 "nbformat_minor": 5
}
